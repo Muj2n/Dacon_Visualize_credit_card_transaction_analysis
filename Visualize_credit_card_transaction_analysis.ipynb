{
  "nbformat": 4,
  "nbformat_minor": 0,
  "metadata": {
    "colab": {
      "provenance": []
    },
    "kernelspec": {
      "name": "python3",
      "display_name": "Python 3"
    },
    "language_info": {
      "name": "python"
    },
    "accelerator": "GPU",
    "gpuClass": "standard"
  },
  "cells": [
    {
      "cell_type": "markdown",
      "source": [
        "# 신용카드 거래 데이터 시각화 - 뱅크셀러드"
      ],
      "metadata": {
        "id": "gK76g4q3T3-6"
      }
    },
    {
      "cell_type": "markdown",
      "source": [
        "## 컬럼 설명\n",
        "\n",
        "* store_id : 각 파일에서 상점 고유 번호\n",
        " \n",
        "* date : 거래 일자\n",
        "\n",
        "* time : 거래 시간\n",
        "\n",
        "* card_id : 카드번호 hash 값\n",
        "\n",
        "* amount : 매출액, 0보다 작은 음수는 거래 취소(환불) / 할부개월수만큼 amount 들어옴\n",
        "\n",
        "* installments : 할부개월수, 일시불은 빈 문자열\n",
        "\n",
        "* days_of_week : 요일, 월요일이 0, 일요일이 6\n",
        "\n",
        "* holyday : 1이면 공휴일, 0이면 공휴일 아님"
      ],
      "metadata": {
        "id": "kHvqjtOXT8ST"
      }
    },
    {
      "cell_type": "markdown",
      "source": [
        "1. 월별 거래 횟수\n",
        "2. 시간별 거래 횟수\n",
        "3. 요일별 거래 횟수(주말)\n",
        "4. 거래 금액과 횟수 = 할부\n",
        "5. 상점당 거래 횟수"
      ],
      "metadata": {
        "id": "D0o1WnuTQroK"
      }
    },
    {
      "cell_type": "code",
      "execution_count": null,
      "metadata": {
        "id": "CO36zxefT3a4"
      },
      "outputs": [],
      "source": [
        "import pandas as pd\n",
        "import matplotlib.pyplot as plt\n",
        "import seaborn as sns\n",
        "import numpy as np\n",
        "from collections import Counter"
      ]
    },
    {
      "cell_type": "code",
      "source": [
        "train = pd.read_csv('train.csv')\n",
        "train.head()"
      ],
      "metadata": {
        "id": "_x5FcEdhXFFr",
        "colab": {
          "base_uri": "https://localhost:8080/",
          "height": 206
        },
        "outputId": "980e0c98-45d1-4c81-d3b9-bb465584b9cb"
      },
      "execution_count": null,
      "outputs": [
        {
          "output_type": "execute_result",
          "data": {
            "text/plain": [
              "   store_id        date      time     card_id  amount  installments  \\\n",
              "0         0  2016-12-14  18:05:31  d297bba73f       5           NaN   \n",
              "1         0  2016-12-14  18:05:54  d297bba73f      -5           NaN   \n",
              "2         0  2016-12-19  12:42:31  0880849c05     144           NaN   \n",
              "3         0  2016-12-19  12:48:08  8b4f9e0e95      66           NaN   \n",
              "4         0  2016-12-19  13:31:08  7ad237eed0      24           NaN   \n",
              "\n",
              "   days_of_week  holyday  \n",
              "0             2        0  \n",
              "1             2        0  \n",
              "2             0        0  \n",
              "3             0        0  \n",
              "4             0        0  "
            ],
            "text/html": [
              "\n",
              "  <div id=\"df-9b4feb36-2d8b-47a2-ac40-74ece2055a0d\">\n",
              "    <div class=\"colab-df-container\">\n",
              "      <div>\n",
              "<style scoped>\n",
              "    .dataframe tbody tr th:only-of-type {\n",
              "        vertical-align: middle;\n",
              "    }\n",
              "\n",
              "    .dataframe tbody tr th {\n",
              "        vertical-align: top;\n",
              "    }\n",
              "\n",
              "    .dataframe thead th {\n",
              "        text-align: right;\n",
              "    }\n",
              "</style>\n",
              "<table border=\"1\" class=\"dataframe\">\n",
              "  <thead>\n",
              "    <tr style=\"text-align: right;\">\n",
              "      <th></th>\n",
              "      <th>store_id</th>\n",
              "      <th>date</th>\n",
              "      <th>time</th>\n",
              "      <th>card_id</th>\n",
              "      <th>amount</th>\n",
              "      <th>installments</th>\n",
              "      <th>days_of_week</th>\n",
              "      <th>holyday</th>\n",
              "    </tr>\n",
              "  </thead>\n",
              "  <tbody>\n",
              "    <tr>\n",
              "      <th>0</th>\n",
              "      <td>0</td>\n",
              "      <td>2016-12-14</td>\n",
              "      <td>18:05:31</td>\n",
              "      <td>d297bba73f</td>\n",
              "      <td>5</td>\n",
              "      <td>NaN</td>\n",
              "      <td>2</td>\n",
              "      <td>0</td>\n",
              "    </tr>\n",
              "    <tr>\n",
              "      <th>1</th>\n",
              "      <td>0</td>\n",
              "      <td>2016-12-14</td>\n",
              "      <td>18:05:54</td>\n",
              "      <td>d297bba73f</td>\n",
              "      <td>-5</td>\n",
              "      <td>NaN</td>\n",
              "      <td>2</td>\n",
              "      <td>0</td>\n",
              "    </tr>\n",
              "    <tr>\n",
              "      <th>2</th>\n",
              "      <td>0</td>\n",
              "      <td>2016-12-19</td>\n",
              "      <td>12:42:31</td>\n",
              "      <td>0880849c05</td>\n",
              "      <td>144</td>\n",
              "      <td>NaN</td>\n",
              "      <td>0</td>\n",
              "      <td>0</td>\n",
              "    </tr>\n",
              "    <tr>\n",
              "      <th>3</th>\n",
              "      <td>0</td>\n",
              "      <td>2016-12-19</td>\n",
              "      <td>12:48:08</td>\n",
              "      <td>8b4f9e0e95</td>\n",
              "      <td>66</td>\n",
              "      <td>NaN</td>\n",
              "      <td>0</td>\n",
              "      <td>0</td>\n",
              "    </tr>\n",
              "    <tr>\n",
              "      <th>4</th>\n",
              "      <td>0</td>\n",
              "      <td>2016-12-19</td>\n",
              "      <td>13:31:08</td>\n",
              "      <td>7ad237eed0</td>\n",
              "      <td>24</td>\n",
              "      <td>NaN</td>\n",
              "      <td>0</td>\n",
              "      <td>0</td>\n",
              "    </tr>\n",
              "  </tbody>\n",
              "</table>\n",
              "</div>\n",
              "      <button class=\"colab-df-convert\" onclick=\"convertToInteractive('df-9b4feb36-2d8b-47a2-ac40-74ece2055a0d')\"\n",
              "              title=\"Convert this dataframe to an interactive table.\"\n",
              "              style=\"display:none;\">\n",
              "        \n",
              "  <svg xmlns=\"http://www.w3.org/2000/svg\" height=\"24px\"viewBox=\"0 0 24 24\"\n",
              "       width=\"24px\">\n",
              "    <path d=\"M0 0h24v24H0V0z\" fill=\"none\"/>\n",
              "    <path d=\"M18.56 5.44l.94 2.06.94-2.06 2.06-.94-2.06-.94-.94-2.06-.94 2.06-2.06.94zm-11 1L8.5 8.5l.94-2.06 2.06-.94-2.06-.94L8.5 2.5l-.94 2.06-2.06.94zm10 10l.94 2.06.94-2.06 2.06-.94-2.06-.94-.94-2.06-.94 2.06-2.06.94z\"/><path d=\"M17.41 7.96l-1.37-1.37c-.4-.4-.92-.59-1.43-.59-.52 0-1.04.2-1.43.59L10.3 9.45l-7.72 7.72c-.78.78-.78 2.05 0 2.83L4 21.41c.39.39.9.59 1.41.59.51 0 1.02-.2 1.41-.59l7.78-7.78 2.81-2.81c.8-.78.8-2.07 0-2.86zM5.41 20L4 18.59l7.72-7.72 1.47 1.35L5.41 20z\"/>\n",
              "  </svg>\n",
              "      </button>\n",
              "      \n",
              "  <style>\n",
              "    .colab-df-container {\n",
              "      display:flex;\n",
              "      flex-wrap:wrap;\n",
              "      gap: 12px;\n",
              "    }\n",
              "\n",
              "    .colab-df-convert {\n",
              "      background-color: #E8F0FE;\n",
              "      border: none;\n",
              "      border-radius: 50%;\n",
              "      cursor: pointer;\n",
              "      display: none;\n",
              "      fill: #1967D2;\n",
              "      height: 32px;\n",
              "      padding: 0 0 0 0;\n",
              "      width: 32px;\n",
              "    }\n",
              "\n",
              "    .colab-df-convert:hover {\n",
              "      background-color: #E2EBFA;\n",
              "      box-shadow: 0px 1px 2px rgba(60, 64, 67, 0.3), 0px 1px 3px 1px rgba(60, 64, 67, 0.15);\n",
              "      fill: #174EA6;\n",
              "    }\n",
              "\n",
              "    [theme=dark] .colab-df-convert {\n",
              "      background-color: #3B4455;\n",
              "      fill: #D2E3FC;\n",
              "    }\n",
              "\n",
              "    [theme=dark] .colab-df-convert:hover {\n",
              "      background-color: #434B5C;\n",
              "      box-shadow: 0px 1px 3px 1px rgba(0, 0, 0, 0.15);\n",
              "      filter: drop-shadow(0px 1px 2px rgba(0, 0, 0, 0.3));\n",
              "      fill: #FFFFFF;\n",
              "    }\n",
              "  </style>\n",
              "\n",
              "      <script>\n",
              "        const buttonEl =\n",
              "          document.querySelector('#df-9b4feb36-2d8b-47a2-ac40-74ece2055a0d button.colab-df-convert');\n",
              "        buttonEl.style.display =\n",
              "          google.colab.kernel.accessAllowed ? 'block' : 'none';\n",
              "\n",
              "        async function convertToInteractive(key) {\n",
              "          const element = document.querySelector('#df-9b4feb36-2d8b-47a2-ac40-74ece2055a0d');\n",
              "          const dataTable =\n",
              "            await google.colab.kernel.invokeFunction('convertToInteractive',\n",
              "                                                     [key], {});\n",
              "          if (!dataTable) return;\n",
              "\n",
              "          const docLinkHtml = 'Like what you see? Visit the ' +\n",
              "            '<a target=\"_blank\" href=https://colab.research.google.com/notebooks/data_table.ipynb>data table notebook</a>'\n",
              "            + ' to learn more about interactive tables.';\n",
              "          element.innerHTML = '';\n",
              "          dataTable['output_type'] = 'display_data';\n",
              "          await google.colab.output.renderOutput(dataTable, element);\n",
              "          const docLink = document.createElement('div');\n",
              "          docLink.innerHTML = docLinkHtml;\n",
              "          element.appendChild(docLink);\n",
              "        }\n",
              "      </script>\n",
              "    </div>\n",
              "  </div>\n",
              "  "
            ]
          },
          "metadata": {},
          "execution_count": 2
        }
      ]
    },
    {
      "cell_type": "code",
      "source": [
        "train.info()\n",
        "# date / time : object > datetime으로 변환"
      ],
      "metadata": {
        "id": "LvJfDqn9lpkS",
        "colab": {
          "base_uri": "https://localhost:8080/"
        },
        "outputId": "0a08e2de-e26c-4f77-fe23-c8cc0a6bac53"
      },
      "execution_count": null,
      "outputs": [
        {
          "output_type": "stream",
          "name": "stdout",
          "text": [
            "<class 'pandas.core.frame.DataFrame'>\n",
            "RangeIndex: 3362796 entries, 0 to 3362795\n",
            "Data columns (total 8 columns):\n",
            " #   Column        Dtype  \n",
            "---  ------        -----  \n",
            " 0   store_id      int64  \n",
            " 1   date          object \n",
            " 2   time          object \n",
            " 3   card_id       object \n",
            " 4   amount        int64  \n",
            " 5   installments  float64\n",
            " 6   days_of_week  int64  \n",
            " 7   holyday       int64  \n",
            "dtypes: float64(1), int64(4), object(3)\n",
            "memory usage: 205.2+ MB\n"
          ]
        }
      ]
    },
    {
      "cell_type": "code",
      "source": [
        "train.describe()\n",
        "# 평균 / 중앙값에 대한 판단 > 이상치를 보고 판단"
      ],
      "metadata": {
        "id": "d5KfhOIDltCH",
        "colab": {
          "base_uri": "https://localhost:8080/",
          "height": 300
        },
        "outputId": "3ba24fd9-946d-47e9-b958-0b9aada95d91"
      },
      "execution_count": null,
      "outputs": [
        {
          "output_type": "execute_result",
          "data": {
            "text/plain": [
              "           store_id        amount  installments  days_of_week       holyday\n",
              "count  3.362796e+06  3.362796e+06  16860.000000  3.362796e+06  3.362796e+06\n",
              "mean   8.323770e+02  1.459623e+02      3.459490  3.066320e+00  4.431283e-02\n",
              "std    5.468544e+02  6.017306e+02      2.382382  1.976153e+00  2.057892e-01\n",
              "min    0.000000e+00 -2.500000e+05      2.000000  0.000000e+00  0.000000e+00\n",
              "25%    3.350000e+02  3.200000e+01      3.000000  1.000000e+00  0.000000e+00\n",
              "50%    8.220000e+02  7.500000e+01      3.000000  3.000000e+00  0.000000e+00\n",
              "75%    1.342000e+03  1.500000e+02      3.000000  5.000000e+00  0.000000e+00\n",
              "max    1.799000e+03  2.500000e+05     36.000000  6.000000e+00  1.000000e+00"
            ],
            "text/html": [
              "\n",
              "  <div id=\"df-810e30a5-b0e1-4f86-ada5-42429ec6cc02\">\n",
              "    <div class=\"colab-df-container\">\n",
              "      <div>\n",
              "<style scoped>\n",
              "    .dataframe tbody tr th:only-of-type {\n",
              "        vertical-align: middle;\n",
              "    }\n",
              "\n",
              "    .dataframe tbody tr th {\n",
              "        vertical-align: top;\n",
              "    }\n",
              "\n",
              "    .dataframe thead th {\n",
              "        text-align: right;\n",
              "    }\n",
              "</style>\n",
              "<table border=\"1\" class=\"dataframe\">\n",
              "  <thead>\n",
              "    <tr style=\"text-align: right;\">\n",
              "      <th></th>\n",
              "      <th>store_id</th>\n",
              "      <th>amount</th>\n",
              "      <th>installments</th>\n",
              "      <th>days_of_week</th>\n",
              "      <th>holyday</th>\n",
              "    </tr>\n",
              "  </thead>\n",
              "  <tbody>\n",
              "    <tr>\n",
              "      <th>count</th>\n",
              "      <td>3.362796e+06</td>\n",
              "      <td>3.362796e+06</td>\n",
              "      <td>16860.000000</td>\n",
              "      <td>3.362796e+06</td>\n",
              "      <td>3.362796e+06</td>\n",
              "    </tr>\n",
              "    <tr>\n",
              "      <th>mean</th>\n",
              "      <td>8.323770e+02</td>\n",
              "      <td>1.459623e+02</td>\n",
              "      <td>3.459490</td>\n",
              "      <td>3.066320e+00</td>\n",
              "      <td>4.431283e-02</td>\n",
              "    </tr>\n",
              "    <tr>\n",
              "      <th>std</th>\n",
              "      <td>5.468544e+02</td>\n",
              "      <td>6.017306e+02</td>\n",
              "      <td>2.382382</td>\n",
              "      <td>1.976153e+00</td>\n",
              "      <td>2.057892e-01</td>\n",
              "    </tr>\n",
              "    <tr>\n",
              "      <th>min</th>\n",
              "      <td>0.000000e+00</td>\n",
              "      <td>-2.500000e+05</td>\n",
              "      <td>2.000000</td>\n",
              "      <td>0.000000e+00</td>\n",
              "      <td>0.000000e+00</td>\n",
              "    </tr>\n",
              "    <tr>\n",
              "      <th>25%</th>\n",
              "      <td>3.350000e+02</td>\n",
              "      <td>3.200000e+01</td>\n",
              "      <td>3.000000</td>\n",
              "      <td>1.000000e+00</td>\n",
              "      <td>0.000000e+00</td>\n",
              "    </tr>\n",
              "    <tr>\n",
              "      <th>50%</th>\n",
              "      <td>8.220000e+02</td>\n",
              "      <td>7.500000e+01</td>\n",
              "      <td>3.000000</td>\n",
              "      <td>3.000000e+00</td>\n",
              "      <td>0.000000e+00</td>\n",
              "    </tr>\n",
              "    <tr>\n",
              "      <th>75%</th>\n",
              "      <td>1.342000e+03</td>\n",
              "      <td>1.500000e+02</td>\n",
              "      <td>3.000000</td>\n",
              "      <td>5.000000e+00</td>\n",
              "      <td>0.000000e+00</td>\n",
              "    </tr>\n",
              "    <tr>\n",
              "      <th>max</th>\n",
              "      <td>1.799000e+03</td>\n",
              "      <td>2.500000e+05</td>\n",
              "      <td>36.000000</td>\n",
              "      <td>6.000000e+00</td>\n",
              "      <td>1.000000e+00</td>\n",
              "    </tr>\n",
              "  </tbody>\n",
              "</table>\n",
              "</div>\n",
              "      <button class=\"colab-df-convert\" onclick=\"convertToInteractive('df-810e30a5-b0e1-4f86-ada5-42429ec6cc02')\"\n",
              "              title=\"Convert this dataframe to an interactive table.\"\n",
              "              style=\"display:none;\">\n",
              "        \n",
              "  <svg xmlns=\"http://www.w3.org/2000/svg\" height=\"24px\"viewBox=\"0 0 24 24\"\n",
              "       width=\"24px\">\n",
              "    <path d=\"M0 0h24v24H0V0z\" fill=\"none\"/>\n",
              "    <path d=\"M18.56 5.44l.94 2.06.94-2.06 2.06-.94-2.06-.94-.94-2.06-.94 2.06-2.06.94zm-11 1L8.5 8.5l.94-2.06 2.06-.94-2.06-.94L8.5 2.5l-.94 2.06-2.06.94zm10 10l.94 2.06.94-2.06 2.06-.94-2.06-.94-.94-2.06-.94 2.06-2.06.94z\"/><path d=\"M17.41 7.96l-1.37-1.37c-.4-.4-.92-.59-1.43-.59-.52 0-1.04.2-1.43.59L10.3 9.45l-7.72 7.72c-.78.78-.78 2.05 0 2.83L4 21.41c.39.39.9.59 1.41.59.51 0 1.02-.2 1.41-.59l7.78-7.78 2.81-2.81c.8-.78.8-2.07 0-2.86zM5.41 20L4 18.59l7.72-7.72 1.47 1.35L5.41 20z\"/>\n",
              "  </svg>\n",
              "      </button>\n",
              "      \n",
              "  <style>\n",
              "    .colab-df-container {\n",
              "      display:flex;\n",
              "      flex-wrap:wrap;\n",
              "      gap: 12px;\n",
              "    }\n",
              "\n",
              "    .colab-df-convert {\n",
              "      background-color: #E8F0FE;\n",
              "      border: none;\n",
              "      border-radius: 50%;\n",
              "      cursor: pointer;\n",
              "      display: none;\n",
              "      fill: #1967D2;\n",
              "      height: 32px;\n",
              "      padding: 0 0 0 0;\n",
              "      width: 32px;\n",
              "    }\n",
              "\n",
              "    .colab-df-convert:hover {\n",
              "      background-color: #E2EBFA;\n",
              "      box-shadow: 0px 1px 2px rgba(60, 64, 67, 0.3), 0px 1px 3px 1px rgba(60, 64, 67, 0.15);\n",
              "      fill: #174EA6;\n",
              "    }\n",
              "\n",
              "    [theme=dark] .colab-df-convert {\n",
              "      background-color: #3B4455;\n",
              "      fill: #D2E3FC;\n",
              "    }\n",
              "\n",
              "    [theme=dark] .colab-df-convert:hover {\n",
              "      background-color: #434B5C;\n",
              "      box-shadow: 0px 1px 3px 1px rgba(0, 0, 0, 0.15);\n",
              "      filter: drop-shadow(0px 1px 2px rgba(0, 0, 0, 0.3));\n",
              "      fill: #FFFFFF;\n",
              "    }\n",
              "  </style>\n",
              "\n",
              "      <script>\n",
              "        const buttonEl =\n",
              "          document.querySelector('#df-810e30a5-b0e1-4f86-ada5-42429ec6cc02 button.colab-df-convert');\n",
              "        buttonEl.style.display =\n",
              "          google.colab.kernel.accessAllowed ? 'block' : 'none';\n",
              "\n",
              "        async function convertToInteractive(key) {\n",
              "          const element = document.querySelector('#df-810e30a5-b0e1-4f86-ada5-42429ec6cc02');\n",
              "          const dataTable =\n",
              "            await google.colab.kernel.invokeFunction('convertToInteractive',\n",
              "                                                     [key], {});\n",
              "          if (!dataTable) return;\n",
              "\n",
              "          const docLinkHtml = 'Like what you see? Visit the ' +\n",
              "            '<a target=\"_blank\" href=https://colab.research.google.com/notebooks/data_table.ipynb>data table notebook</a>'\n",
              "            + ' to learn more about interactive tables.';\n",
              "          element.innerHTML = '';\n",
              "          dataTable['output_type'] = 'display_data';\n",
              "          await google.colab.output.renderOutput(dataTable, element);\n",
              "          const docLink = document.createElement('div');\n",
              "          docLink.innerHTML = docLinkHtml;\n",
              "          element.appendChild(docLink);\n",
              "        }\n",
              "      </script>\n",
              "    </div>\n",
              "  </div>\n",
              "  "
            ]
          },
          "metadata": {},
          "execution_count": 4
        }
      ]
    },
    {
      "cell_type": "markdown",
      "source": [
        "###  이상치 제거\n",
        "\n",
        "* 이상치가 있을 수 있다고 판단되는 컬럼 판단 : amount\n",
        "\n",
        "* vilonplot이용 분포 확인\n"
      ],
      "metadata": {
        "id": "CiXqpzo-o20R"
      }
    },
    {
      "cell_type": "code",
      "source": [
        "train['temp'] = 1\n",
        "sns.catplot(data=train, x=\"temp\", y=\"amount\", kind=\"violin\")\n",
        "# 정규분포의 형태를 안 띄는 것 확인"
      ],
      "metadata": {
        "id": "hvaWx27pQ_P7",
        "colab": {
          "base_uri": "https://localhost:8080/",
          "height": 387
        },
        "outputId": "b6418146-c453-48c0-be67-0e3947807b41"
      },
      "execution_count": null,
      "outputs": [
        {
          "output_type": "execute_result",
          "data": {
            "text/plain": [
              "<seaborn.axisgrid.FacetGrid at 0x7f2088490350>"
            ]
          },
          "metadata": {},
          "execution_count": 5
        },
        {
          "output_type": "display_data",
          "data": {
            "text/plain": [
              "<Figure size 360x360 with 1 Axes>"
            ],
            "image/png": "[encoded data removed]"
          },
          "metadata": {
            "needs_background": "light"
          }
        }
      ]
    },
    {
      "cell_type": "markdown",
      "source": [
        "* 분포 범위는 넓은데 반해 분포는 한쪽으로 편중 되어있음. numpy > percentile을 이용해 비율 확인"
      ],
      "metadata": {
        "id": "b4B_UTEPShrn"
      }
    },
    {
      "cell_type": "code",
      "source": [
        "# 99% 이상치\n",
        "percentage_99 = np.percentile(train[\"amount\"], 99)\n",
        "print(percentage_99)"
      ],
      "metadata": {
        "id": "j-lVH2UcSeP2",
        "colab": {
          "base_uri": "https://localhost:8080/"
        },
        "outputId": "20941d5e-90ea-4ed4-85ad-87f8813e9c67"
      },
      "execution_count": null,
      "outputs": [
        {
          "output_type": "stream",
          "name": "stdout",
          "text": [
            "1335.0\n"
          ]
        }
      ]
    },
    {
      "cell_type": "code",
      "source": [
        "# 98% 이상치\n",
        "percentage_98 = np.percentile(train[\"amount\"], 98)\n",
        "print(percentage_98)"
      ],
      "metadata": {
        "id": "HKToVLKV4mf2",
        "colab": {
          "base_uri": "https://localhost:8080/"
        },
        "outputId": "4ee590e8-c94d-4b99-e389-8a94a5687b80"
      },
      "execution_count": null,
      "outputs": [
        {
          "output_type": "stream",
          "name": "stdout",
          "text": [
            "800.0\n"
          ]
        }
      ]
    },
    {
      "cell_type": "code",
      "source": [
        "# 99% 이상치 판단 : '1335' 제거 후 반대로 -'1335'제거(거래취소)\n",
        "train = train[(train[\"amount\"] <= 1335) & (train[\"amount\"] >= -1335)]"
      ],
      "metadata": {
        "id": "KPp_qnwsTD5a"
      },
      "execution_count": null,
      "outputs": []
    },
    {
      "cell_type": "code",
      "source": [
        "train['temp'] = 1\n",
        "sns.catplot(data=train, x=\"temp\", y=\"amount\", kind=\"violin\")"
      ],
      "metadata": {
        "id": "ChJ_JZHQYGBy",
        "colab": {
          "base_uri": "https://localhost:8080/",
          "height": 498
        },
        "outputId": "a3be6576-d539-4feb-a809-7a134216736a"
      },
      "execution_count": null,
      "outputs": [
        {
          "output_type": "stream",
          "name": "stderr",
          "text": [
            "/usr/local/lib/python3.7/dist-packages/ipykernel_launcher.py:1: SettingWithCopyWarning: \n",
            "A value is trying to be set on a copy of a slice from a DataFrame.\n",
            "Try using .loc[row_indexer,col_indexer] = value instead\n",
            "\n",
            "See the caveats in the documentation: https://pandas.pydata.org/pandas-docs/stable/user_guide/indexing.html#returning-a-view-versus-a-copy\n",
            "  \"\"\"Entry point for launching an IPython kernel.\n"
          ]
        },
        {
          "output_type": "execute_result",
          "data": {
            "text/plain": [
              "<seaborn.axisgrid.FacetGrid at 0x7f2088371a90>"
            ]
          },
          "metadata": {},
          "execution_count": 9
        },
        {
          "output_type": "display_data",
          "data": {
            "text/plain": [
              "<Figure size 360x360 with 1 Axes>"
            ],
            "image/png": "[encoded data removed]"
          },
          "metadata": {
            "needs_background": "light"
          }
        }
      ]
    },
    {
      "cell_type": "code",
      "source": [
        "# 결측값 확인\n",
        "train.isnull().sum()"
      ],
      "metadata": {
        "id": "QSh1SYc_mipc",
        "colab": {
          "base_uri": "https://localhost:8080/"
        },
        "outputId": "2bf5cf3c-b449-45a0-9bf8-b5eede60d48b"
      },
      "execution_count": null,
      "outputs": [
        {
          "output_type": "execute_result",
          "data": {
            "text/plain": [
              "store_id              0\n",
              "date                  0\n",
              "time                  0\n",
              "card_id               0\n",
              "amount                0\n",
              "installments    3316484\n",
              "days_of_week          0\n",
              "holyday               0\n",
              "temp                  0\n",
              "dtype: int64"
            ]
          },
          "metadata": {},
          "execution_count": 10
        }
      ]
    },
    {
      "cell_type": "code",
      "source": [
        "# installments : 할부개월수, 일시불은 빈 문자열 > 따라서 1으로 대입\n",
        "train['installments'] = train['installments'].fillna(1)\n",
        "train.isnull().sum()"
      ],
      "metadata": {
        "id": "03YucIZjmqtD",
        "colab": {
          "base_uri": "https://localhost:8080/"
        },
        "outputId": "766e63ba-6653-4633-eb3a-74d5649185d2"
      },
      "execution_count": null,
      "outputs": [
        {
          "output_type": "stream",
          "name": "stderr",
          "text": [
            "/usr/local/lib/python3.7/dist-packages/ipykernel_launcher.py:2: SettingWithCopyWarning: \n",
            "A value is trying to be set on a copy of a slice from a DataFrame.\n",
            "Try using .loc[row_indexer,col_indexer] = value instead\n",
            "\n",
            "See the caveats in the documentation: https://pandas.pydata.org/pandas-docs/stable/user_guide/indexing.html#returning-a-view-versus-a-copy\n",
            "  \n"
          ]
        },
        {
          "output_type": "execute_result",
          "data": {
            "text/plain": [
              "store_id        0\n",
              "date            0\n",
              "time            0\n",
              "card_id         0\n",
              "amount          0\n",
              "installments    0\n",
              "days_of_week    0\n",
              "holyday         0\n",
              "temp            0\n",
              "dtype: int64"
            ]
          },
          "metadata": {},
          "execution_count": 11
        }
      ]
    },
    {
      "cell_type": "markdown",
      "source": [
        "* 총액 : 할부 * 금액\n",
        "\n",
        "* total = amount * installments"
      ],
      "metadata": {
        "id": "Zf4iy-ZtZIK5"
      }
    },
    {
      "cell_type": "code",
      "source": [
        "train[\"total\"] = train[\"amount\"] * train[\"installments\"]"
      ],
      "metadata": {
        "id": "3bfqvYrOZFLl",
        "colab": {
          "base_uri": "https://localhost:8080/"
        },
        "outputId": "fe9fec7a-b1b4-46bf-d8ae-890366c7f8f9"
      },
      "execution_count": null,
      "outputs": [
        {
          "output_type": "stream",
          "name": "stderr",
          "text": [
            "/usr/local/lib/python3.7/dist-packages/ipykernel_launcher.py:1: SettingWithCopyWarning: \n",
            "A value is trying to be set on a copy of a slice from a DataFrame.\n",
            "Try using .loc[row_indexer,col_indexer] = value instead\n",
            "\n",
            "See the caveats in the documentation: https://pandas.pydata.org/pandas-docs/stable/user_guide/indexing.html#returning-a-view-versus-a-copy\n",
            "  \"\"\"Entry point for launching an IPython kernel.\n"
          ]
        }
      ]
    },
    {
      "cell_type": "code",
      "source": [
        "train.info()"
      ],
      "metadata": {
        "id": "s47VIOu1Ji9I",
        "colab": {
          "base_uri": "https://localhost:8080/"
        },
        "outputId": "ed216dfc-8a1b-4074-d26e-5ac6ad95bf1c"
      },
      "execution_count": null,
      "outputs": [
        {
          "output_type": "stream",
          "name": "stdout",
          "text": [
            "<class 'pandas.core.frame.DataFrame'>\n",
            "Int64Index: 3327373 entries, 0 to 3362795\n",
            "Data columns (total 10 columns):\n",
            " #   Column        Dtype  \n",
            "---  ------        -----  \n",
            " 0   store_id      int64  \n",
            " 1   date          object \n",
            " 2   time          object \n",
            " 3   card_id       object \n",
            " 4   amount        int64  \n",
            " 5   installments  float64\n",
            " 6   days_of_week  int64  \n",
            " 7   holyday       int64  \n",
            " 8   temp          int64  \n",
            " 9   total         float64\n",
            "dtypes: float64(2), int64(5), object(3)\n",
            "memory usage: 279.2+ MB\n"
          ]
        }
      ]
    },
    {
      "cell_type": "code",
      "source": [
        "del train[\"temp\"]"
      ],
      "metadata": {
        "id": "0W5AOyyWZacl"
      },
      "execution_count": null,
      "outputs": []
    },
    {
      "cell_type": "code",
      "source": [
        "plt.figure(figsize=(10, 10))\n",
        "sns.heatmap(train[train.columns].corr(), cmap=\"RdBu_r\", annot=True)"
      ],
      "metadata": {
        "id": "_VBASWT1aYTq",
        "colab": {
          "base_uri": "https://localhost:8080/",
          "height": 614
        },
        "outputId": "02b57b95-1bdd-4c05-a5a7-3085c7cdb1d1"
      },
      "execution_count": null,
      "outputs": [
        {
          "output_type": "execute_result",
          "data": {
            "text/plain": [
              "<matplotlib.axes._subplots.AxesSubplot at 0x7f207ef29090>"
            ]
          },
          "metadata": {},
          "execution_count": 15
        },
        {
          "output_type": "display_data",
          "data": {
            "text/plain": [
              "<Figure size 720x720 with 2 Axes>"
            ],
            "image/png": "[encoded data removed]"
          },
          "metadata": {
            "needs_background": "light"
          }
        }
      ]
    },
    {
      "cell_type": "code",
      "source": [
        "count_store = train.groupby('store_id').count()['card_id'].sort_values(ascending = False)\n",
        "count_store"
      ],
      "metadata": {
        "id": "M6hJ5_D3SUJm",
        "colab": {
          "base_uri": "https://localhost:8080/"
        },
        "outputId": "5de89203-0b8a-4115-d02d-a16813d000df"
      },
      "execution_count": null,
      "outputs": [
        {
          "output_type": "execute_result",
          "data": {
            "text/plain": [
              "store_id\n",
              "0       68748\n",
              "753     39244\n",
              "105     36011\n",
              "1342    33329\n",
              "428     33282\n",
              "        ...  \n",
              "608         1\n",
              "689         1\n",
              "304         1\n",
              "201         1\n",
              "1684        1\n",
              "Name: card_id, Length: 1749, dtype: int64"
            ]
          },
          "metadata": {},
          "execution_count": 16
        }
      ]
    },
    {
      "cell_type": "code",
      "source": [
        "count_store.head(10)"
      ],
      "metadata": {
        "id": "oNJKJowkflNq",
        "colab": {
          "base_uri": "https://localhost:8080/"
        },
        "outputId": "6caf9a5a-3024-4d72-e22e-c1983d85ab0f"
      },
      "execution_count": null,
      "outputs": [
        {
          "output_type": "execute_result",
          "data": {
            "text/plain": [
              "store_id\n",
              "0       68748\n",
              "753     39244\n",
              "105     36011\n",
              "1342    33329\n",
              "428     33282\n",
              "221     31407\n",
              "161     26389\n",
              "1038    25694\n",
              "323     25220\n",
              "1366    24942\n",
              "Name: card_id, dtype: int64"
            ]
          },
          "metadata": {},
          "execution_count": 17
        }
      ]
    },
    {
      "cell_type": "markdown",
      "source": [
        "계산 횟수가 많은 순서 : 0, 753, 105, 1342, 428"
      ],
      "metadata": {
        "id": "UnqK_hx5VBwb"
      }
    },
    {
      "cell_type": "code",
      "source": [
        "count_store.tail(10)"
      ],
      "metadata": {
        "id": "NC2_7PWiTFC0",
        "colab": {
          "base_uri": "https://localhost:8080/"
        },
        "outputId": "39e5790c-dcba-4fbf-b819-2e6b353a483d"
      },
      "execution_count": null,
      "outputs": [
        {
          "output_type": "execute_result",
          "data": {
            "text/plain": [
              "store_id\n",
              "320     1\n",
              "1740    1\n",
              "453     1\n",
              "536     1\n",
              "982     1\n",
              "608     1\n",
              "689     1\n",
              "304     1\n",
              "201     1\n",
              "1684    1\n",
              "Name: card_id, dtype: int64"
            ]
          },
          "metadata": {},
          "execution_count": 18
        }
      ]
    },
    {
      "cell_type": "code",
      "source": [
        "total_store = train.groupby('store_id').sum()['total'].sort_values(ascending = False)\n",
        "total_store"
      ],
      "metadata": {
        "id": "mg8hhjBakVJt",
        "colab": {
          "base_uri": "https://localhost:8080/"
        },
        "outputId": "fb5db5ec-3685-4b3d-89c9-725fa16a36d4"
      },
      "execution_count": null,
      "outputs": [
        {
          "output_type": "execute_result",
          "data": {
            "text/plain": [
              "store_id\n",
              "753     9383494.0\n",
              "1342    7395226.0\n",
              "0       5365850.0\n",
              "161     4825989.0\n",
              "1076    4149892.0\n",
              "          ...    \n",
              "846           0.0\n",
              "350           0.0\n",
              "866           0.0\n",
              "189           0.0\n",
              "988           0.0\n",
              "Name: total, Length: 1749, dtype: float64"
            ]
          },
          "metadata": {},
          "execution_count": 19
        }
      ]
    },
    {
      "cell_type": "code",
      "source": [
        "total_store.head(10)"
      ],
      "metadata": {
        "id": "GuSjQKt8kWL7",
        "colab": {
          "base_uri": "https://localhost:8080/"
        },
        "outputId": "557bc42a-acde-4aa3-e433-6f6d225ca900"
      },
      "execution_count": null,
      "outputs": [
        {
          "output_type": "execute_result",
          "data": {
            "text/plain": [
              "store_id\n",
              "753     9383494.0\n",
              "1342    7395226.0\n",
              "0       5365850.0\n",
              "161     4825989.0\n",
              "1076    4149892.0\n",
              "1024    3063786.0\n",
              "104     2976609.0\n",
              "597     2877949.0\n",
              "1209    2871284.0\n",
              "393     2647565.0\n",
              "Name: total, dtype: float64"
            ]
          },
          "metadata": {},
          "execution_count": 20
        }
      ]
    },
    {
      "cell_type": "markdown",
      "source": [
        "금액이 많은 순서 : 753, 1342, 0, 161, 1076"
      ],
      "metadata": {
        "id": "VR8hainfVuvq"
      }
    },
    {
      "cell_type": "code",
      "source": [
        "total_store.tail(10)"
      ],
      "metadata": {
        "id": "bVxXkeJgkgBl",
        "colab": {
          "base_uri": "https://localhost:8080/"
        },
        "outputId": "8ec17739-5fb8-40c3-adb7-b1b99ee548b9"
      },
      "execution_count": null,
      "outputs": [
        {
          "output_type": "execute_result",
          "data": {
            "text/plain": [
              "store_id\n",
              "703     5.0\n",
              "608     5.0\n",
              "1760    0.0\n",
              "1783    0.0\n",
              "389     0.0\n",
              "846     0.0\n",
              "350     0.0\n",
              "866     0.0\n",
              "189     0.0\n",
              "988     0.0\n",
              "Name: total, dtype: float64"
            ]
          },
          "metadata": {},
          "execution_count": 21
        }
      ]
    },
    {
      "cell_type": "markdown",
      "source": [
        "* 날짜 시간 Column을 생성"
      ],
      "metadata": {
        "id": "QD7idMwXUeBz"
      }
    },
    {
      "cell_type": "code",
      "source": [
        "def split_date(date):\n",
        "    return date.split(\"-\")"
      ],
      "metadata": {
        "id": "k-xvOULdUcNv"
      },
      "execution_count": null,
      "outputs": []
    },
    {
      "cell_type": "code",
      "source": [
        "train[\"year\"], train[\"month\"], train[\"day\"] = zip(*train['date'].apply(lambda x: split_date(x)))"
      ],
      "metadata": {
        "id": "J4zdJ1RbUkdn",
        "colab": {
          "base_uri": "https://localhost:8080/"
        },
        "outputId": "c4166353-7c3b-4243-e44c-fdd33b16b0d8"
      },
      "execution_count": null,
      "outputs": [
        {
          "output_type": "stream",
          "name": "stderr",
          "text": [
            "/usr/local/lib/python3.7/dist-packages/ipykernel_launcher.py:1: SettingWithCopyWarning: \n",
            "A value is trying to be set on a copy of a slice from a DataFrame.\n",
            "Try using .loc[row_indexer,col_indexer] = value instead\n",
            "\n",
            "See the caveats in the documentation: https://pandas.pydata.org/pandas-docs/stable/user_guide/indexing.html#returning-a-view-versus-a-copy\n",
            "  \"\"\"Entry point for launching an IPython kernel.\n"
          ]
        }
      ]
    },
    {
      "cell_type": "code",
      "source": [
        "def split_time(time):\n",
        "    return time.split(\":\")"
      ],
      "metadata": {
        "id": "lXw0Nd_JUpGV"
      },
      "execution_count": null,
      "outputs": []
    },
    {
      "cell_type": "code",
      "source": [
        "train[\"hour\"], train[\"minute\"], train[\"second\"] = zip(*train['time'].apply(lambda x: split_time(x)))"
      ],
      "metadata": {
        "id": "4dZZrUU8Urzx",
        "colab": {
          "base_uri": "https://localhost:8080/"
        },
        "outputId": "b0a66c54-34ef-4bc1-8c1a-8e62cf2b024c"
      },
      "execution_count": null,
      "outputs": [
        {
          "output_type": "stream",
          "name": "stderr",
          "text": [
            "/usr/local/lib/python3.7/dist-packages/ipykernel_launcher.py:1: SettingWithCopyWarning: \n",
            "A value is trying to be set on a copy of a slice from a DataFrame.\n",
            "Try using .loc[row_indexer,col_indexer] = value instead\n",
            "\n",
            "See the caveats in the documentation: https://pandas.pydata.org/pandas-docs/stable/user_guide/indexing.html#returning-a-view-versus-a-copy\n",
            "  \"\"\"Entry point for launching an IPython kernel.\n"
          ]
        }
      ]
    },
    {
      "cell_type": "code",
      "source": [
        "train[\"year\"] = train[\"year\"].astype(int)\n",
        "train[\"month\"] = train[\"month\"].astype(int)\n",
        "train[\"day\"] = train[\"day\"].astype(int)\n",
        "train[\"hour\"] = train[\"hour\"].astype(int)\n",
        "train[\"minute\"] = train[\"minute\"].astype(int)\n",
        "train[\"second\"] = train[\"second\"].astype(int)"
      ],
      "metadata": {
        "id": "iOcGKe7YUs07",
        "colab": {
          "base_uri": "https://localhost:8080/"
        },
        "outputId": "5499c0fd-5d14-45d3-fd95-e7929eba5421"
      },
      "execution_count": null,
      "outputs": [
        {
          "output_type": "stream",
          "name": "stderr",
          "text": [
            "/usr/local/lib/python3.7/dist-packages/ipykernel_launcher.py:1: SettingWithCopyWarning: \n",
            "A value is trying to be set on a copy of a slice from a DataFrame.\n",
            "Try using .loc[row_indexer,col_indexer] = value instead\n",
            "\n",
            "See the caveats in the documentation: https://pandas.pydata.org/pandas-docs/stable/user_guide/indexing.html#returning-a-view-versus-a-copy\n",
            "  \"\"\"Entry point for launching an IPython kernel.\n",
            "/usr/local/lib/python3.7/dist-packages/ipykernel_launcher.py:2: SettingWithCopyWarning: \n",
            "A value is trying to be set on a copy of a slice from a DataFrame.\n",
            "Try using .loc[row_indexer,col_indexer] = value instead\n",
            "\n",
            "See the caveats in the documentation: https://pandas.pydata.org/pandas-docs/stable/user_guide/indexing.html#returning-a-view-versus-a-copy\n",
            "  \n",
            "/usr/local/lib/python3.7/dist-packages/ipykernel_launcher.py:3: SettingWithCopyWarning: \n",
            "A value is trying to be set on a copy of a slice from a DataFrame.\n",
            "Try using .loc[row_indexer,col_indexer] = value instead\n",
            "\n",
            "See the caveats in the documentation: https://pandas.pydata.org/pandas-docs/stable/user_guide/indexing.html#returning-a-view-versus-a-copy\n",
            "  This is separate from the ipykernel package so we can avoid doing imports until\n",
            "/usr/local/lib/python3.7/dist-packages/ipykernel_launcher.py:4: SettingWithCopyWarning: \n",
            "A value is trying to be set on a copy of a slice from a DataFrame.\n",
            "Try using .loc[row_indexer,col_indexer] = value instead\n",
            "\n",
            "See the caveats in the documentation: https://pandas.pydata.org/pandas-docs/stable/user_guide/indexing.html#returning-a-view-versus-a-copy\n",
            "  after removing the cwd from sys.path.\n",
            "/usr/local/lib/python3.7/dist-packages/ipykernel_launcher.py:5: SettingWithCopyWarning: \n",
            "A value is trying to be set on a copy of a slice from a DataFrame.\n",
            "Try using .loc[row_indexer,col_indexer] = value instead\n",
            "\n",
            "See the caveats in the documentation: https://pandas.pydata.org/pandas-docs/stable/user_guide/indexing.html#returning-a-view-versus-a-copy\n",
            "  \"\"\"\n",
            "/usr/local/lib/python3.7/dist-packages/ipykernel_launcher.py:6: SettingWithCopyWarning: \n",
            "A value is trying to be set on a copy of a slice from a DataFrame.\n",
            "Try using .loc[row_indexer,col_indexer] = value instead\n",
            "\n",
            "See the caveats in the documentation: https://pandas.pydata.org/pandas-docs/stable/user_guide/indexing.html#returning-a-view-versus-a-copy\n",
            "  \n"
          ]
        }
      ]
    },
    {
      "cell_type": "code",
      "source": [
        "train.head()"
      ],
      "metadata": {
        "id": "hV8gtRdTUuke",
        "colab": {
          "base_uri": "https://localhost:8080/",
          "height": 206
        },
        "outputId": "22cae9c1-d75d-4614-ce25-398f96175237"
      },
      "execution_count": null,
      "outputs": [
        {
          "output_type": "execute_result",
          "data": {
            "text/plain": [
              "   store_id        date      time     card_id  amount  installments  \\\n",
              "0         0  2016-12-14  18:05:31  d297bba73f       5           1.0   \n",
              "1         0  2016-12-14  18:05:54  d297bba73f      -5           1.0   \n",
              "2         0  2016-12-19  12:42:31  0880849c05     144           1.0   \n",
              "3         0  2016-12-19  12:48:08  8b4f9e0e95      66           1.0   \n",
              "4         0  2016-12-19  13:31:08  7ad237eed0      24           1.0   \n",
              "\n",
              "   days_of_week  holyday  total  year  month  day  hour  minute  second  \n",
              "0             2        0    5.0  2016     12   14    18       5      31  \n",
              "1             2        0   -5.0  2016     12   14    18       5      54  \n",
              "2             0        0  144.0  2016     12   19    12      42      31  \n",
              "3             0        0   66.0  2016     12   19    12      48       8  \n",
              "4             0        0   24.0  2016     12   19    13      31       8  "
            ],
            "text/html": [
              "\n",
              "  <div id=\"df-a06ceceb-0181-4663-9fd2-c5bc5454d8bc\">\n",
              "    <div class=\"colab-df-container\">\n",
              "      <div>\n",
              "<style scoped>\n",
              "    .dataframe tbody tr th:only-of-type {\n",
              "        vertical-align: middle;\n",
              "    }\n",
              "\n",
              "    .dataframe tbody tr th {\n",
              "        vertical-align: top;\n",
              "    }\n",
              "\n",
              "    .dataframe thead th {\n",
              "        text-align: right;\n",
              "    }\n",
              "</style>\n",
              "<table border=\"1\" class=\"dataframe\">\n",
              "  <thead>\n",
              "    <tr style=\"text-align: right;\">\n",
              "      <th></th>\n",
              "      <th>store_id</th>\n",
              "      <th>date</th>\n",
              "      <th>time</th>\n",
              "      <th>card_id</th>\n",
              "      <th>amount</th>\n",
              "      <th>installments</th>\n",
              "      <th>days_of_week</th>\n",
              "      <th>holyday</th>\n",
              "      <th>total</th>\n",
              "      <th>year</th>\n",
              "      <th>month</th>\n",
              "      <th>day</th>\n",
              "      <th>hour</th>\n",
              "      <th>minute</th>\n",
              "      <th>second</th>\n",
              "    </tr>\n",
              "  </thead>\n",
              "  <tbody>\n",
              "    <tr>\n",
              "      <th>0</th>\n",
              "      <td>0</td>\n",
              "      <td>2016-12-14</td>\n",
              "      <td>18:05:31</td>\n",
              "      <td>d297bba73f</td>\n",
              "      <td>5</td>\n",
              "      <td>1.0</td>\n",
              "      <td>2</td>\n",
              "      <td>0</td>\n",
              "      <td>5.0</td>\n",
              "      <td>2016</td>\n",
              "      <td>12</td>\n",
              "      <td>14</td>\n",
              "      <td>18</td>\n",
              "      <td>5</td>\n",
              "      <td>31</td>\n",
              "    </tr>\n",
              "    <tr>\n",
              "      <th>1</th>\n",
              "      <td>0</td>\n",
              "      <td>2016-12-14</td>\n",
              "      <td>18:05:54</td>\n",
              "      <td>d297bba73f</td>\n",
              "      <td>-5</td>\n",
              "      <td>1.0</td>\n",
              "      <td>2</td>\n",
              "      <td>0</td>\n",
              "      <td>-5.0</td>\n",
              "      <td>2016</td>\n",
              "      <td>12</td>\n",
              "      <td>14</td>\n",
              "      <td>18</td>\n",
              "      <td>5</td>\n",
              "      <td>54</td>\n",
              "    </tr>\n",
              "    <tr>\n",
              "      <th>2</th>\n",
              "      <td>0</td>\n",
              "      <td>2016-12-19</td>\n",
              "      <td>12:42:31</td>\n",
              "      <td>0880849c05</td>\n",
              "      <td>144</td>\n",
              "      <td>1.0</td>\n",
              "      <td>0</td>\n",
              "      <td>0</td>\n",
              "      <td>144.0</td>\n",
              "      <td>2016</td>\n",
              "      <td>12</td>\n",
              "      <td>19</td>\n",
              "      <td>12</td>\n",
              "      <td>42</td>\n",
              "      <td>31</td>\n",
              "    </tr>\n",
              "    <tr>\n",
              "      <th>3</th>\n",
              "      <td>0</td>\n",
              "      <td>2016-12-19</td>\n",
              "      <td>12:48:08</td>\n",
              "      <td>8b4f9e0e95</td>\n",
              "      <td>66</td>\n",
              "      <td>1.0</td>\n",
              "      <td>0</td>\n",
              "      <td>0</td>\n",
              "      <td>66.0</td>\n",
              "      <td>2016</td>\n",
              "      <td>12</td>\n",
              "      <td>19</td>\n",
              "      <td>12</td>\n",
              "      <td>48</td>\n",
              "      <td>8</td>\n",
              "    </tr>\n",
              "    <tr>\n",
              "      <th>4</th>\n",
              "      <td>0</td>\n",
              "      <td>2016-12-19</td>\n",
              "      <td>13:31:08</td>\n",
              "      <td>7ad237eed0</td>\n",
              "      <td>24</td>\n",
              "      <td>1.0</td>\n",
              "      <td>0</td>\n",
              "      <td>0</td>\n",
              "      <td>24.0</td>\n",
              "      <td>2016</td>\n",
              "      <td>12</td>\n",
              "      <td>19</td>\n",
              "      <td>13</td>\n",
              "      <td>31</td>\n",
              "      <td>8</td>\n",
              "    </tr>\n",
              "  </tbody>\n",
              "</table>\n",
              "</div>\n",
              "      <button class=\"colab-df-convert\" onclick=\"convertToInteractive('df-a06ceceb-0181-4663-9fd2-c5bc5454d8bc')\"\n",
              "              title=\"Convert this dataframe to an interactive table.\"\n",
              "              style=\"display:none;\">\n",
              "        \n",
              "  <svg xmlns=\"http://www.w3.org/2000/svg\" height=\"24px\"viewBox=\"0 0 24 24\"\n",
              "       width=\"24px\">\n",
              "    <path d=\"M0 0h24v24H0V0z\" fill=\"none\"/>\n",
              "    <path d=\"M18.56 5.44l.94 2.06.94-2.06 2.06-.94-2.06-.94-.94-2.06-.94 2.06-2.06.94zm-11 1L8.5 8.5l.94-2.06 2.06-.94-2.06-.94L8.5 2.5l-.94 2.06-2.06.94zm10 10l.94 2.06.94-2.06 2.06-.94-2.06-.94-.94-2.06-.94 2.06-2.06.94z\"/><path d=\"M17.41 7.96l-1.37-1.37c-.4-.4-.92-.59-1.43-.59-.52 0-1.04.2-1.43.59L10.3 9.45l-7.72 7.72c-.78.78-.78 2.05 0 2.83L4 21.41c.39.39.9.59 1.41.59.51 0 1.02-.2 1.41-.59l7.78-7.78 2.81-2.81c.8-.78.8-2.07 0-2.86zM5.41 20L4 18.59l7.72-7.72 1.47 1.35L5.41 20z\"/>\n",
              "  </svg>\n",
              "      </button>\n",
              "      \n",
              "  <style>\n",
              "    .colab-df-container {\n",
              "      display:flex;\n",
              "      flex-wrap:wrap;\n",
              "      gap: 12px;\n",
              "    }\n",
              "\n",
              "    .colab-df-convert {\n",
              "      background-color: #E8F0FE;\n",
              "      border: none;\n",
              "      border-radius: 50%;\n",
              "      cursor: pointer;\n",
              "      display: none;\n",
              "      fill: #1967D2;\n",
              "      height: 32px;\n",
              "      padding: 0 0 0 0;\n",
              "      width: 32px;\n",
              "    }\n",
              "\n",
              "    .colab-df-convert:hover {\n",
              "      background-color: #E2EBFA;\n",
              "      box-shadow: 0px 1px 2px rgba(60, 64, 67, 0.3), 0px 1px 3px 1px rgba(60, 64, 67, 0.15);\n",
              "      fill: #174EA6;\n",
              "    }\n",
              "\n",
              "    [theme=dark] .colab-df-convert {\n",
              "      background-color: #3B4455;\n",
              "      fill: #D2E3FC;\n",
              "    }\n",
              "\n",
              "    [theme=dark] .colab-df-convert:hover {\n",
              "      background-color: #434B5C;\n",
              "      box-shadow: 0px 1px 3px 1px rgba(0, 0, 0, 0.15);\n",
              "      filter: drop-shadow(0px 1px 2px rgba(0, 0, 0, 0.3));\n",
              "      fill: #FFFFFF;\n",
              "    }\n",
              "  </style>\n",
              "\n",
              "      <script>\n",
              "        const buttonEl =\n",
              "          document.querySelector('#df-a06ceceb-0181-4663-9fd2-c5bc5454d8bc button.colab-df-convert');\n",
              "        buttonEl.style.display =\n",
              "          google.colab.kernel.accessAllowed ? 'block' : 'none';\n",
              "\n",
              "        async function convertToInteractive(key) {\n",
              "          const element = document.querySelector('#df-a06ceceb-0181-4663-9fd2-c5bc5454d8bc');\n",
              "          const dataTable =\n",
              "            await google.colab.kernel.invokeFunction('convertToInteractive',\n",
              "                                                     [key], {});\n",
              "          if (!dataTable) return;\n",
              "\n",
              "          const docLinkHtml = 'Like what you see? Visit the ' +\n",
              "            '<a target=\"_blank\" href=https://colab.research.google.com/notebooks/data_table.ipynb>data table notebook</a>'\n",
              "            + ' to learn more about interactive tables.';\n",
              "          element.innerHTML = '';\n",
              "          dataTable['output_type'] = 'display_data';\n",
              "          await google.colab.output.renderOutput(dataTable, element);\n",
              "          const docLink = document.createElement('div');\n",
              "          docLink.innerHTML = docLinkHtml;\n",
              "          element.appendChild(docLink);\n",
              "        }\n",
              "      </script>\n",
              "    </div>\n",
              "  </div>\n",
              "  "
            ]
          },
          "metadata": {},
          "execution_count": 27
        }
      ]
    },
    {
      "cell_type": "code",
      "source": [
        "# 년 별\n",
        "year_total = train.groupby('year').mean()['total'].sort_values(ascending = False)\n",
        "year_total\n",
        "# 2017년에 많으며, 2016 2018 순서이다."
      ],
      "metadata": {
        "id": "MgHcYCecV8Kk",
        "colab": {
          "base_uri": "https://localhost:8080/"
        },
        "outputId": "67515212-1e68-4c81-9676-4f07faff15bd"
      },
      "execution_count": null,
      "outputs": [
        {
          "output_type": "execute_result",
          "data": {
            "text/plain": [
              "year\n",
              "2017    123.999543\n",
              "2016    123.759702\n",
              "2018    119.712876\n",
              "Name: total, dtype: float64"
            ]
          },
          "metadata": {},
          "execution_count": 28
        }
      ]
    },
    {
      "cell_type": "code",
      "source": [
        "# 월 별\n",
        "month_total = train.groupby('month').mean()['total'].sort_values(ascending = False)\n",
        "month_total\n",
        "# 12월 2월 1월 순서"
      ],
      "metadata": {
        "id": "QbbEAjVuZq19",
        "colab": {
          "base_uri": "https://localhost:8080/"
        },
        "outputId": "c010a5c2-aa61-477d-ac27-300c6660ab65"
      },
      "execution_count": null,
      "outputs": [
        {
          "output_type": "execute_result",
          "data": {
            "text/plain": [
              "month\n",
              "12    130.823951\n",
              "2     129.988848\n",
              "1     126.322964\n",
              "3     124.679995\n",
              "11    122.621078\n",
              "4     120.742819\n",
              "10    120.058933\n",
              "5     120.016401\n",
              "8     120.005885\n",
              "7     119.083034\n",
              "9     118.676751\n",
              "6     117.327746\n",
              "Name: total, dtype: float64"
            ]
          },
          "metadata": {},
          "execution_count": 29
        }
      ]
    },
    {
      "cell_type": "code",
      "source": [
        "# 일 별\n",
        "day_total = train.groupby('day').mean()['total'].sort_values(ascending = False)\n",
        "day_total\n",
        "# 월 초와 월 말의 소비가 많은 것 확인 가능"
      ],
      "metadata": {
        "id": "IrsmPOunaJ8y",
        "colab": {
          "base_uri": "https://localhost:8080/"
        },
        "outputId": "810b18ee-e9d5-4eed-bf19-1b208a99ab89"
      },
      "execution_count": null,
      "outputs": [
        {
          "output_type": "execute_result",
          "data": {
            "text/plain": [
              "day\n",
              "31    125.960447\n",
              "1     124.834301\n",
              "2     124.484251\n",
              "3     123.624661\n",
              "25    123.469885\n",
              "29    123.355620\n",
              "30    123.310770\n",
              "24    123.108881\n",
              "26    122.958264\n",
              "14    122.701347\n",
              "17    122.618823\n",
              "10    122.511830\n",
              "18    122.350672\n",
              "6     122.341205\n",
              "7     122.317958\n",
              "5     122.309656\n",
              "28    122.262243\n",
              "8     122.068110\n",
              "13    121.982221\n",
              "27    121.889588\n",
              "15    121.744223\n",
              "12    121.699681\n",
              "11    121.619742\n",
              "9     121.556215\n",
              "4     121.493742\n",
              "23    121.281109\n",
              "16    121.031049\n",
              "20    121.007524\n",
              "22    120.979464\n",
              "21    120.725982\n",
              "19    120.001515\n",
              "Name: total, dtype: float64"
            ]
          },
          "metadata": {},
          "execution_count": 30
        }
      ]
    },
    {
      "cell_type": "code",
      "source": [
        "# 요일 별 \n",
        "days_of_week_total = train.groupby('days_of_week').mean()['total'].sort_values(ascending = False)\n",
        "days_of_week_total\n",
        "# 토요일, 금요일 순서"
      ],
      "metadata": {
        "id": "O3ZOZ4KuanXI",
        "colab": {
          "base_uri": "https://localhost:8080/"
        },
        "outputId": "03ced698-0776-4d47-ccb2-40740fb0583b"
      },
      "execution_count": null,
      "outputs": [
        {
          "output_type": "execute_result",
          "data": {
            "text/plain": [
              "days_of_week\n",
              "5    130.420602\n",
              "4    124.078220\n",
              "6    121.923081\n",
              "3    121.226094\n",
              "2    120.609023\n",
              "1    119.559647\n",
              "0    116.871816\n",
              "Name: total, dtype: float64"
            ]
          },
          "metadata": {},
          "execution_count": 31
        }
      ]
    },
    {
      "cell_type": "code",
      "source": [
        "# 요일 / 공휴일\n",
        "days_of_week_holyday_total = train.groupby(['days_of_week','holyday']).mean()['total'].sort_values(ascending = False)\n",
        "days_of_week_holyday_total\n",
        "# 그룹을 두개 이상 짓는 경우 seaborn : hue 사용"
      ],
      "metadata": {
        "id": "gQ6wVJBabEHz",
        "colab": {
          "base_uri": "https://localhost:8080/"
        },
        "outputId": "06b85613-6f1d-4ff5-ad29-26a8ef9ab1cf"
      },
      "execution_count": null,
      "outputs": [
        {
          "output_type": "execute_result",
          "data": {
            "text/plain": [
              "days_of_week  holyday\n",
              "5             1          138.655578\n",
              "6             1          133.769610\n",
              "4             1          131.279311\n",
              "5             0          130.229321\n",
              "3             1          129.386526\n",
              "4             0          123.842328\n",
              "0             1          123.706818\n",
              "6             0          121.628016\n",
              "3             0          120.937726\n",
              "2             0          120.693433\n",
              "1             1          119.848448\n",
              "              0          119.540042\n",
              "2             1          119.212025\n",
              "0             0          116.242165\n",
              "Name: total, dtype: float64"
            ]
          },
          "metadata": {},
          "execution_count": 32
        }
      ]
    },
    {
      "cell_type": "code",
      "source": [
        "# 공휴일 유무\n",
        "holyday_total = train.groupby('holyday').mean()['total'].sort_values(ascending = False)\n",
        "holyday_total"
      ],
      "metadata": {
        "id": "tckDb-AMcOsC",
        "colab": {
          "base_uri": "https://localhost:8080/"
        },
        "outputId": "7fd64dc2-694a-4e61-d2ab-4b01e151dd28"
      },
      "execution_count": null,
      "outputs": [
        {
          "output_type": "execute_result",
          "data": {
            "text/plain": [
              "holyday\n",
              "1    125.536380\n",
              "0    122.172181\n",
              "Name: total, dtype: float64"
            ]
          },
          "metadata": {},
          "execution_count": 33
        }
      ]
    },
    {
      "cell_type": "code",
      "source": [
        "# 공휴일과 시간별\n",
        "# 공휴일 유무\n",
        "hour_holyday_total = train.groupby(['hour','holyday']).mean()['total'].sort_values(ascending = False)\n",
        "hour_holyday_total\n",
        "# 그룹을 두개 이상 짓는 경우 seaborn : hue 사용"
      ],
      "metadata": {
        "id": "F-sEZc9jgCBU",
        "colab": {
          "base_uri": "https://localhost:8080/"
        },
        "outputId": "6ed554ec-21ac-469e-e447-262fa24d0559"
      },
      "execution_count": null,
      "outputs": [
        {
          "output_type": "execute_result",
          "data": {
            "text/plain": [
              "hour  holyday\n",
              "3     1          166.689707\n",
              "2     0          159.319664\n",
              "      1          159.115098\n",
              "1     0          158.810258\n",
              "0     1          158.202195\n",
              "      0          157.394672\n",
              "1     1          157.087627\n",
              "20    0          153.152062\n",
              "23    0          153.057973\n",
              "21    0          152.786032\n",
              "3     0          150.412278\n",
              "22    0          146.188711\n",
              "20    1          145.085571\n",
              "19    1          139.330219\n",
              "23    1          136.214685\n",
              "21    1          135.914730\n",
              "4     1          135.582656\n",
              "19    0          132.242905\n",
              "4     0          129.116402\n",
              "22    1          127.154367\n",
              "6     1          126.560855\n",
              "      0          124.296118\n",
              "18    1          123.432847\n",
              "13    1          118.338510\n",
              "14    1          118.216724\n",
              "5     1          117.687023\n",
              "15    1          115.170553\n",
              "5     0          115.052022\n",
              "18    0          114.659184\n",
              "16    1          113.962859\n",
              "12    1          112.984881\n",
              "17    1          112.217555\n",
              "14    0          111.446850\n",
              "15    0          111.037277\n",
              "17    0          110.983132\n",
              "11    1          110.763383\n",
              "16    0          109.610488\n",
              "7     1          106.860987\n",
              "10    1          105.885698\n",
              "13    0          104.006831\n",
              "11    0          103.494106\n",
              "9     1          103.013629\n",
              "7     0          100.563702\n",
              "12    0          100.404719\n",
              "10    0           99.518450\n",
              "8     1           97.379697\n",
              "9     0           88.685186\n",
              "8     0           83.011870\n",
              "Name: total, dtype: float64"
            ]
          },
          "metadata": {},
          "execution_count": 34
        }
      ]
    },
    {
      "cell_type": "code",
      "source": [
        "# 시간별\n",
        "hour_total = train.groupby('hour').mean()['total'].sort_values(ascending = False)\n",
        "hour_total\n",
        "# 새벽과 밤의 수요가 많은 것을 확인 가능"
      ],
      "metadata": {
        "id": "RANO9J15chqL",
        "colab": {
          "base_uri": "https://localhost:8080/"
        },
        "outputId": "9a4a380e-e7bb-44e9-ba8c-936c1626d986"
      },
      "execution_count": null,
      "outputs": [
        {
          "output_type": "execute_result",
          "data": {
            "text/plain": [
              "hour\n",
              "2     159.305158\n",
              "1     158.698421\n",
              "0     157.444584\n",
              "20    152.820716\n",
              "23    152.367701\n",
              "21    152.121550\n",
              "3     151.540677\n",
              "22    145.438393\n",
              "19    132.550725\n",
              "4     129.522780\n",
              "6     124.393733\n",
              "5     115.189820\n",
              "18    115.057987\n",
              "14    111.822181\n",
              "15    111.269762\n",
              "17    111.045484\n",
              "16    109.837266\n",
              "13    104.610967\n",
              "11    103.811879\n",
              "7     100.797371\n",
              "12    100.771945\n",
              "10     99.800940\n",
              "9      89.251200\n",
              "8      83.505584\n",
              "Name: total, dtype: float64"
            ]
          },
          "metadata": {},
          "execution_count": 35
        }
      ]
    },
    {
      "cell_type": "code",
      "source": [
        "# 시간과 요일별\n",
        "hour_days_of_week_total = train.groupby(['hour','days_of_week']).mean()['total'].sort_values(ascending = False)\n",
        "hour_days_of_week_total\n",
        "\n",
        "# 그룹을 두개 이상 짓는 경우 seaborn : hue 사용"
      ],
      "metadata": {
        "id": "4CXTqOzCe99L",
        "colab": {
          "base_uri": "https://localhost:8080/"
        },
        "outputId": "1d1779c1-3e08-4b2c-c8cc-d03d0e02a4ea"
      },
      "execution_count": null,
      "outputs": [
        {
          "output_type": "execute_result",
          "data": {
            "text/plain": [
              "hour  days_of_week\n",
              "2     5               169.492174\n",
              "1     5               167.426536\n",
              "0     5               164.571964\n",
              "      4               164.077544\n",
              "3     5               163.970805\n",
              "                         ...    \n",
              "8     1                82.443068\n",
              "      0                81.527871\n",
              "      2                80.064734\n",
              "      3                79.862937\n",
              "      4                77.854132\n",
              "Name: total, Length: 168, dtype: float64"
            ]
          },
          "metadata": {},
          "execution_count": 36
        }
      ]
    },
    {
      "cell_type": "markdown",
      "source": [
        "## 분석 3등 코드"
      ],
      "metadata": {
        "id": "ipW9DboVzT0F"
      }
    },
    {
      "cell_type": "markdown",
      "source": [
        "코드 참조 : https://dacon.io/competitions/official/42473/codeshare/429?page=1&dtype=recent"
      ],
      "metadata": {
        "id": "y4YjuX7inHe_"
      }
    },
    {
      "cell_type": "code",
      "source": [
        "figure, (ax1, ax2) = plt.subplots(nrows=1, ncols=2)\n",
        "figure.set_size_inches(18, 4)\n",
        "# 연 별 그래프 시각화\n",
        "sns.barplot(data=train, x=\"year\", y=\"total\", ax=ax1)\n",
        "# 월 별 그래프 시각화 \n",
        "sns.barplot(data=train, x=\"month\", y=\"total\", ax=ax2)\n",
        "# 연말 연초에 많은 것을 확인 가능(12 ~ 3)\n",
        "\n",
        "figure, ax3 = plt.subplots(nrows=1, ncols=1)\n",
        "figure.set_size_inches(18, 4)\n",
        "# 일 별 그래프 시각화\n",
        "sns.barplot(data=train, x=\"day\", y=\"total\", ax=ax3)"
      ],
      "metadata": {
        "id": "ZxtB1rr5f0Fq",
        "colab": {
          "base_uri": "https://localhost:8080/",
          "height": 559
        },
        "outputId": "670033d5-c82e-4b7e-ef32-c51a088327f3"
      },
      "execution_count": null,
      "outputs": [
        {
          "output_type": "execute_result",
          "data": {
            "text/plain": [
              "<matplotlib.axes._subplots.AxesSubplot at 0x7f207c30e210>"
            ]
          },
          "metadata": {},
          "execution_count": 37
        },
        {
          "output_type": "display_data",
          "data": {
            "text/plain": [
              "<Figure size 1296x288 with 2 Axes>"
            ],
            "image/png": "[encoded data removed]"
          },
          "metadata": {
            "needs_background": "light"
          }
        },
        {
          "output_type": "display_data",
          "data": {
            "text/plain": [
              "<Figure size 1296x288 with 1 Axes>"
            ],
            "image/png": "[encoded data removed]"
          },
          "metadata": {
            "needs_background": "light"
          }
        }
      ]
    },
    {
      "cell_type": "code",
      "source": [
        "# 요일별 그래프 시각화\n",
        "sns.barplot(data=train, x=\"days_of_week\", y=\"total\")\n",
        "# 금, 토요일에 많은 것을 확인 가능하다."
      ],
      "metadata": {
        "id": "7tMZkBNpf3pH",
        "colab": {
          "base_uri": "https://localhost:8080/",
          "height": 298
        },
        "outputId": "2d0a5145-5493-442f-89db-b7885fcf21a6"
      },
      "execution_count": null,
      "outputs": [
        {
          "output_type": "execute_result",
          "data": {
            "text/plain": [
              "<matplotlib.axes._subplots.AxesSubplot at 0x7f2020946ed0>"
            ]
          },
          "metadata": {},
          "execution_count": 38
        },
        {
          "output_type": "display_data",
          "data": {
            "text/plain": [
              "<Figure size 432x288 with 1 Axes>"
            ],
            "image/png": "[encoded data removed]"
          },
          "metadata": {
            "needs_background": "light"
          }
        }
      ]
    },
    {
      "cell_type": "code",
      "source": [
        "# 공휴일 유무에 따른 요일별 그래프 시각화\n",
        "sns.barplot(data=train, x=\"days_of_week\", y=\"total\", hue=\"holyday\")"
      ],
      "metadata": {
        "id": "jhrrWYljf4t7",
        "colab": {
          "base_uri": "https://localhost:8080/",
          "height": 298
        },
        "outputId": "7c0aba4e-b012-4f9a-e9ea-557c9a98326c"
      },
      "execution_count": null,
      "outputs": [
        {
          "output_type": "execute_result",
          "data": {
            "text/plain": [
              "<matplotlib.axes._subplots.AxesSubplot at 0x7f2022793bd0>"
            ]
          },
          "metadata": {},
          "execution_count": 39
        },
        {
          "output_type": "display_data",
          "data": {
            "text/plain": [
              "<Figure size 432x288 with 1 Axes>"
            ],
            "image/png": "[encoded data removed]"
          },
          "metadata": {
            "needs_background": "light"
          }
        }
      ]
    },
    {
      "cell_type": "code",
      "source": [
        "# 시간별 그래프 시각화\n",
        "plt.figure(figsize=(10, 7))\n",
        "sns.pointplot(data=train, x=\"hour\", y=\"total\")\n",
        "# 20시 ~ 4시까지 수요가 많으며, 오전 시간에는 수요가 적은 것 확인 가능"
      ],
      "metadata": {
        "id": "IrqXI06Vf5k3",
        "colab": {
          "base_uri": "https://localhost:8080/",
          "height": 460
        },
        "outputId": "98a42ee6-7e66-4584-d277-319ec1106339"
      },
      "execution_count": null,
      "outputs": [
        {
          "output_type": "execute_result",
          "data": {
            "text/plain": [
              "<matplotlib.axes._subplots.AxesSubplot at 0x7f20976e4050>"
            ]
          },
          "metadata": {},
          "execution_count": 40
        },
        {
          "output_type": "display_data",
          "data": {
            "text/plain": [
              "<Figure size 720x504 with 1 Axes>"
            ],
            "image/png": "[encoded data removed]"
          },
          "metadata": {
            "needs_background": "light"
          }
        }
      ]
    },
    {
      "cell_type": "code",
      "source": [
        "# 요일, 시간별 그래프 시각화\n",
        "plt.figure(figsize=(10, 7))\n",
        "sns.pointplot(data=train, x=\"hour\", y=\"total\", hue=\"days_of_week\")\n",
        "# 그래프가 전체적으로 비슷하지만, 일요일 밤 ~ 월요일 새벽에 수요가 적은 것을 확인 할 수 있다."
      ],
      "metadata": {
        "id": "YPvlDr8cf6cl",
        "colab": {
          "base_uri": "https://localhost:8080/",
          "height": 460
        },
        "outputId": "9418d02e-4fdb-41ed-d29d-ce0b5f667636"
      },
      "execution_count": null,
      "outputs": [
        {
          "output_type": "execute_result",
          "data": {
            "text/plain": [
              "<matplotlib.axes._subplots.AxesSubplot at 0x7f204e469990>"
            ]
          },
          "metadata": {},
          "execution_count": 41
        },
        {
          "output_type": "display_data",
          "data": {
            "text/plain": [
              "<Figure size 720x504 with 1 Axes>"
            ],
            "image/png": "[encoded data removed]"
          },
          "metadata": {
            "needs_background": "light"
          }
        }
      ]
    },
    {
      "cell_type": "code",
      "source": [
        "plt.figure(figsize=(10, 7))\n",
        "sns.pointplot(data=train, x=\"hour\", y=\"total\", hue=\"holyday\")\n",
        "# 휴일의 새벽 수요가 많으며, 평일 저녁 수요가 많은 것을 볼 수 있다."
      ],
      "metadata": {
        "id": "GTR5bFWXgW9E",
        "colab": {
          "base_uri": "https://localhost:8080/",
          "height": 460
        },
        "outputId": "3be23bce-9a83-4d8c-b0ff-dbf695decdda"
      },
      "execution_count": null,
      "outputs": [
        {
          "output_type": "execute_result",
          "data": {
            "text/plain": [
              "<matplotlib.axes._subplots.AxesSubplot at 0x7f204e494f50>"
            ]
          },
          "metadata": {},
          "execution_count": 42
        },
        {
          "output_type": "display_data",
          "data": {
            "text/plain": [
              "<Figure size 720x504 with 1 Axes>"
            ],
            "image/png": "[encoded data removed]"
          },
          "metadata": {
            "needs_background": "light"
          }
        }
      ]
    },
    {
      "cell_type": "markdown",
      "source": [
        "* 다음날 쉬는지의 대한 유무 판단"
      ],
      "metadata": {
        "id": "tI68xeOXgfgZ"
      }
    },
    {
      "cell_type": "code",
      "source": [
        "train[\"nextday_holiday\"] = 0"
      ],
      "metadata": {
        "id": "-hb3OEuMgiyS",
        "colab": {
          "base_uri": "https://localhost:8080/"
        },
        "outputId": "8588b956-1326-4cc2-b8e9-7a86a9ff79f5"
      },
      "execution_count": null,
      "outputs": [
        {
          "output_type": "stream",
          "name": "stderr",
          "text": [
            "/usr/local/lib/python3.7/dist-packages/ipykernel_launcher.py:1: SettingWithCopyWarning: \n",
            "A value is trying to be set on a copy of a slice from a DataFrame.\n",
            "Try using .loc[row_indexer,col_indexer] = value instead\n",
            "\n",
            "See the caveats in the documentation: https://pandas.pydata.org/pandas-docs/stable/user_guide/indexing.html#returning-a-view-versus-a-copy\n",
            "  \"\"\"Entry point for launching an IPython kernel.\n"
          ]
        }
      ]
    },
    {
      "cell_type": "code",
      "source": [
        "# 금요일 / 토요일을 1로 변경\n",
        "train.loc[(train[\"days_of_week\"] == 4) | (train[\"days_of_week\"] == 5), \"nextday_holiday\"] = 1"
      ],
      "metadata": {
        "id": "d7KDzoD2glCl",
        "colab": {
          "base_uri": "https://localhost:8080/"
        },
        "outputId": "cd51adbb-6b0f-419c-e008-daf11aa6cbd7"
      },
      "execution_count": null,
      "outputs": [
        {
          "output_type": "stream",
          "name": "stderr",
          "text": [
            "/usr/local/lib/python3.7/dist-packages/pandas/core/indexing.py:1817: SettingWithCopyWarning: \n",
            "A value is trying to be set on a copy of a slice from a DataFrame.\n",
            "Try using .loc[row_indexer,col_indexer] = value instead\n",
            "\n",
            "See the caveats in the documentation: https://pandas.pydata.org/pandas-docs/stable/user_guide/indexing.html#returning-a-view-versus-a-copy\n",
            "  self._setitem_single_column(loc, value, pi)\n"
          ]
        }
      ]
    },
    {
      "cell_type": "code",
      "source": [
        "train[\"nextday_year\"] = train[\"year\"]"
      ],
      "metadata": {
        "id": "w9Qw9p_3gmIg",
        "colab": {
          "base_uri": "https://localhost:8080/"
        },
        "outputId": "f3cb53ce-3030-4019-ed99-dc2147e6fe67"
      },
      "execution_count": null,
      "outputs": [
        {
          "output_type": "stream",
          "name": "stderr",
          "text": [
            "/usr/local/lib/python3.7/dist-packages/ipykernel_launcher.py:1: SettingWithCopyWarning: \n",
            "A value is trying to be set on a copy of a slice from a DataFrame.\n",
            "Try using .loc[row_indexer,col_indexer] = value instead\n",
            "\n",
            "See the caveats in the documentation: https://pandas.pydata.org/pandas-docs/stable/user_guide/indexing.html#returning-a-view-versus-a-copy\n",
            "  \"\"\"Entry point for launching an IPython kernel.\n"
          ]
        }
      ]
    },
    {
      "cell_type": "code",
      "source": [
        "train[\"nextday_month\"] = train[\"month\"]"
      ],
      "metadata": {
        "id": "x-e16DmSgwZL",
        "colab": {
          "base_uri": "https://localhost:8080/"
        },
        "outputId": "784dd46f-72d3-4549-dd94-3f79cc4a69aa"
      },
      "execution_count": null,
      "outputs": [
        {
          "output_type": "stream",
          "name": "stderr",
          "text": [
            "/usr/local/lib/python3.7/dist-packages/ipykernel_launcher.py:1: SettingWithCopyWarning: \n",
            "A value is trying to be set on a copy of a slice from a DataFrame.\n",
            "Try using .loc[row_indexer,col_indexer] = value instead\n",
            "\n",
            "See the caveats in the documentation: https://pandas.pydata.org/pandas-docs/stable/user_guide/indexing.html#returning-a-view-versus-a-copy\n",
            "  \"\"\"Entry point for launching an IPython kernel.\n"
          ]
        }
      ]
    },
    {
      "cell_type": "code",
      "source": [
        "# 날짜를 하루 미뤄서 입력\n",
        "train[\"nextday_day\"] = train[\"day\"] + 1"
      ],
      "metadata": {
        "id": "sOpDOeWZg2Wy",
        "colab": {
          "base_uri": "https://localhost:8080/"
        },
        "outputId": "eaf25bc8-c7f7-451c-fa33-72b7ef0271a8"
      },
      "execution_count": null,
      "outputs": [
        {
          "output_type": "stream",
          "name": "stderr",
          "text": [
            "/usr/local/lib/python3.7/dist-packages/ipykernel_launcher.py:2: SettingWithCopyWarning: \n",
            "A value is trying to be set on a copy of a slice from a DataFrame.\n",
            "Try using .loc[row_indexer,col_indexer] = value instead\n",
            "\n",
            "See the caveats in the documentation: https://pandas.pydata.org/pandas-docs/stable/user_guide/indexing.html#returning-a-view-versus-a-copy\n",
            "  \n"
          ]
        }
      ]
    },
    {
      "cell_type": "markdown",
      "source": [
        "2016년 8월 - 31일, 9월 - 30일, 10월 - 31일, 11월 - 30일, 12월 - 31일\n",
        "\n",
        "2017년 1월 - 31일, 2월 - 28일, 3월 - 31일, 4월 - 30일, 5월 - 31일, 6월 - 30일, 7월 - 31일, 8월 - 31일, 9월 - 30일, 10월 - 31일, 11월 - 30일, 12월 - 31일\n",
        "\n",
        "2018년 1월 - 31일, 2월 - 28일, 3월 - 31일, 4월 - 30일, 5월 - 31일, 6월 - 30일, 7월 - 31일, 8월 - 31일"
      ],
      "metadata": {
        "id": "RmayKPYGhOLJ"
      }
    },
    {
      "cell_type": "code",
      "source": [
        "# 2016년 12월 31일의 다음날은 2017년 1월 1이므로 연도와 월, 날짜 모두 변경되어야 한다\n",
        "train.loc[(train[\"nextday_day\"] == 32) & (train[\"year\"] == 2016) & (train[\"month\"] == 12), \"nextday_year\"] = train[\"year\"] + 1\n",
        "train.loc[(train[\"nextday_day\"] == 32) & (train[\"year\"] == 2016) & (train[\"month\"] == 12), \"nextday_month\"] = 1\n",
        "\n",
        "# 마지막 날짜가 31일인 달(12월 제외)\n",
        "train.loc[(train[\"nextday_day\"] == 32) & (train[\"year\"] == 2016) & ((train[\"month\"] == 8) | (train[\"month\"] == 10) | (train[\"month\"] == 12)), \"nextday_day\"] = 1\n",
        "train.loc[(train[\"nextday_day\"] == 32) & (train[\"year\"] == 2016) & ((train[\"month\"] == 8) | (train[\"month\"] == 10)), \"nextday_month\"] = train[\"month\"] + 1\n",
        "\n",
        "# 마지막 날짜가 30일인 달\n",
        "train.loc[(train[\"nextday_day\"] == 31) & (train[\"year\"] == 2016) & ((train[\"month\"] == 9) | (train[\"month\"] == 11)), \"nextday_day\"] = 1\n",
        "train.loc[(train[\"nextday_day\"] == 31) & (train[\"year\"] == 2016) & ((train[\"month\"] == 9) | (train[\"month\"] == 11)), \"nextday_month\"] = train[\"month\"] + 1"
      ],
      "metadata": {
        "id": "vA75SZ_Og4xR",
        "colab": {
          "base_uri": "https://localhost:8080/"
        },
        "outputId": "a576dbc0-4396-4b7c-fba9-9e063a78e592"
      },
      "execution_count": null,
      "outputs": [
        {
          "output_type": "stream",
          "name": "stderr",
          "text": [
            "/usr/local/lib/python3.7/dist-packages/pandas/core/indexing.py:1773: SettingWithCopyWarning: \n",
            "A value is trying to be set on a copy of a slice from a DataFrame.\n",
            "Try using .loc[row_indexer,col_indexer] = value instead\n",
            "\n",
            "See the caveats in the documentation: https://pandas.pydata.org/pandas-docs/stable/user_guide/indexing.html#returning-a-view-versus-a-copy\n",
            "  self._setitem_single_column(ilocs[0], value, pi)\n"
          ]
        }
      ]
    },
    {
      "cell_type": "code",
      "source": [
        "# 2017년 12월 31일의 다음날은 2018년 1월 1이므로 연도와 월, 날짜 모두 변경되어야 한다\n",
        "train.loc[(train[\"nextday_day\"] == 32) & (train[\"year\"] == 2017) & (train[\"month\"] == 12), \"nextday_year\"] = train[\"year\"] + 1\n",
        "train.loc[(train[\"nextday_day\"] == 32) & (train[\"year\"] == 2017) & (train[\"month\"] == 12), \"nextday_month\"] = 1\n",
        "# 마지막 날짜가 31일인 달(12월 제외)\n",
        "train.loc[(train[\"nextday_day\"] == 32) & (train[\"year\"] == 2017) & ((train[\"month\"] == 1) | (train[\"month\"] == 3) | (train[\"month\"] == 5) | (train[\"month\"] == 7) | (train[\"month\"] == 8) | (train[\"month\"] == 10) | (train[\"month\"] == 12)), \"nextday_day\"] = 1\n",
        "train.loc[(train[\"nextday_day\"] == 32) & (train[\"year\"] == 2017) & ((train[\"month\"] == 1) | (train[\"month\"] == 3) | (train[\"month\"] == 5) | (train[\"month\"] == 7) | (train[\"month\"] == 8) | (train[\"month\"] == 10)), \"nextday_month\"] = train[\"month\"] + 1\n",
        "# 마지막 날짜가 30일인 달\n",
        "train.loc[(train[\"nextday_day\"] == 31) & (train[\"year\"] == 2017) & ((train[\"month\"] == 4) | (train[\"month\"] == 6) | (train[\"month\"] == 9) | (train[\"month\"] == 11)), \"nextday_day\"] = 1\n",
        "train.loc[(train[\"nextday_day\"] == 31) & (train[\"year\"] == 2017) & ((train[\"month\"] == 4) | (train[\"month\"] == 6) | (train[\"month\"] == 9) | (train[\"month\"] == 11)), \"nextday_month\"] = train[\"month\"] + 1\n",
        "# 마지막 날짜가 28일인 달\n",
        "train.loc[(train[\"nextday_day\"] == 29) & (train[\"year\"] == 2017) & (train[\"month\"] == 2), \"nextday_day\"] = 1\n",
        "train.loc[(train[\"nextday_day\"] == 29) & (train[\"year\"] == 2017) & (train[\"month\"] == 2), \"nextday_month\"] = train[\"month\"] + 1"
      ],
      "metadata": {
        "id": "EiUDq1f6hZE_"
      },
      "execution_count": null,
      "outputs": []
    },
    {
      "cell_type": "code",
      "source": [
        "# 마지막 날짜가 31일인 달\n",
        "train.loc[(train[\"nextday_day\"] == 32) & (train[\"year\"] == 2017) & ((train[\"month\"] == 1) | (train[\"month\"] == 3) | (train[\"month\"] == 5) | (train[\"month\"] == 7) | (train[\"month\"] == 8)), \"nextday_day\"] = 1\n",
        "train.loc[(train[\"nextday_day\"] == 32) & (train[\"year\"] == 2017) & ((train[\"month\"] == 1) | (train[\"month\"] == 3) | (train[\"month\"] == 5) | (train[\"month\"] == 7) | (train[\"month\"] == 8)), \"nextday_month\"] = train[\"month\"] + 1\n",
        "# 마지막 날짜가 30일인 달\n",
        "train.loc[(train[\"nextday_day\"] == 31) & (train[\"year\"] == 2017) & ((train[\"month\"] == 4) | (train[\"month\"] == 6)), \"nextday_day\"] = 1\n",
        "train.loc[(train[\"nextday_day\"] == 31) & (train[\"year\"] == 2017) & ((train[\"month\"] == 4) | (train[\"month\"] == 6)), \"nextday_month\"] = train[\"month\"] + 1\n",
        "# 마지막 날짜가 28일인 달\n",
        "train.loc[(train[\"nextday_day\"] == 29) & (train[\"year\"] == 2017) & (train[\"month\"] == 2), \"nextday_day\"] = 1\n",
        "train.loc[(train[\"nextday_day\"] == 29) & (train[\"year\"] == 2017) & (train[\"month\"] == 2), \"nextday_month\"] = train[\"month\"] + 1"
      ],
      "metadata": {
        "id": "Zyv3_r2vhaz_"
      },
      "execution_count": null,
      "outputs": []
    },
    {
      "cell_type": "code",
      "source": [
        "train[\"nextday_year_str\"] = train[\"nextday_year\"].astype(str)\n",
        "train[\"nextday_month_str\"] = train[\"nextday_month\"].astype(str)\n",
        "train[\"nextday_day_str\"] = train[\"nextday_day\"].astype(str)"
      ],
      "metadata": {
        "id": "ur_cff8phced",
        "colab": {
          "base_uri": "https://localhost:8080/"
        },
        "outputId": "0f1da429-b3c6-46b0-884e-75891318bb3d"
      },
      "execution_count": null,
      "outputs": [
        {
          "output_type": "stream",
          "name": "stderr",
          "text": [
            "/usr/local/lib/python3.7/dist-packages/ipykernel_launcher.py:1: SettingWithCopyWarning: \n",
            "A value is trying to be set on a copy of a slice from a DataFrame.\n",
            "Try using .loc[row_indexer,col_indexer] = value instead\n",
            "\n",
            "See the caveats in the documentation: https://pandas.pydata.org/pandas-docs/stable/user_guide/indexing.html#returning-a-view-versus-a-copy\n",
            "  \"\"\"Entry point for launching an IPython kernel.\n",
            "/usr/local/lib/python3.7/dist-packages/ipykernel_launcher.py:2: SettingWithCopyWarning: \n",
            "A value is trying to be set on a copy of a slice from a DataFrame.\n",
            "Try using .loc[row_indexer,col_indexer] = value instead\n",
            "\n",
            "See the caveats in the documentation: https://pandas.pydata.org/pandas-docs/stable/user_guide/indexing.html#returning-a-view-versus-a-copy\n",
            "  \n",
            "/usr/local/lib/python3.7/dist-packages/ipykernel_launcher.py:3: SettingWithCopyWarning: \n",
            "A value is trying to be set on a copy of a slice from a DataFrame.\n",
            "Try using .loc[row_indexer,col_indexer] = value instead\n",
            "\n",
            "See the caveats in the documentation: https://pandas.pydata.org/pandas-docs/stable/user_guide/indexing.html#returning-a-view-versus-a-copy\n",
            "  This is separate from the ipykernel package so we can avoid doing imports until\n"
          ]
        }
      ]
    },
    {
      "cell_type": "code",
      "source": [
        "# 9월 > 09월로 변환\n",
        "for month in range(10):\n",
        "    train.loc[(train[\"nextday_month_str\"] == str(month)), \"nextday_month_str\"] = \"0\" + str(month)"
      ],
      "metadata": {
        "id": "yYnrPx-6iCpt"
      },
      "execution_count": null,
      "outputs": []
    },
    {
      "cell_type": "code",
      "source": [
        "# 1일 > 01일로 변환\n",
        "for day in range(10):\n",
        "    train.loc[(train[\"nextday_day_str\"] == str(day)), \"nextday_day_str\"] = \"0\" + str(day)"
      ],
      "metadata": {
        "id": "UNWvVDtTiBd3"
      },
      "execution_count": null,
      "outputs": []
    },
    {
      "cell_type": "code",
      "source": [
        "train[\"nextday_date\"] = train[\"nextday_year_str\"] + \"-\" + train[\"nextday_month_str\"] + \"-\" + train[\"nextday_day_str\"]"
      ],
      "metadata": {
        "id": "VjyBUvD8iI_C",
        "colab": {
          "base_uri": "https://localhost:8080/"
        },
        "outputId": "2071f91a-d880-40b6-ff8a-7a7052bfbf08"
      },
      "execution_count": null,
      "outputs": [
        {
          "output_type": "stream",
          "name": "stderr",
          "text": [
            "/usr/local/lib/python3.7/dist-packages/ipykernel_launcher.py:1: SettingWithCopyWarning: \n",
            "A value is trying to be set on a copy of a slice from a DataFrame.\n",
            "Try using .loc[row_indexer,col_indexer] = value instead\n",
            "\n",
            "See the caveats in the documentation: https://pandas.pydata.org/pandas-docs/stable/user_guide/indexing.html#returning-a-view-versus-a-copy\n",
            "  \"\"\"Entry point for launching an IPython kernel.\n"
          ]
        }
      ]
    },
    {
      "cell_type": "code",
      "source": [
        "train[[\"date\", \"nextday_date\"]].head()"
      ],
      "metadata": {
        "id": "lETjDlRFiLGF",
        "colab": {
          "base_uri": "https://localhost:8080/",
          "height": 206
        },
        "outputId": "0d135a20-9483-4a67-8386-f4e8f97a65ab"
      },
      "execution_count": null,
      "outputs": [
        {
          "output_type": "execute_result",
          "data": {
            "text/plain": [
              "         date nextday_date\n",
              "0  2016-12-14   2016-12-15\n",
              "1  2016-12-14   2016-12-15\n",
              "2  2016-12-19   2016-12-20\n",
              "3  2016-12-19   2016-12-20\n",
              "4  2016-12-19   2016-12-20"
            ],
            "text/html": [
              "\n",
              "  <div id=\"df-85f60507-2a04-4a69-8a31-bdff0ae732c4\">\n",
              "    <div class=\"colab-df-container\">\n",
              "      <div>\n",
              "<style scoped>\n",
              "    .dataframe tbody tr th:only-of-type {\n",
              "        vertical-align: middle;\n",
              "    }\n",
              "\n",
              "    .dataframe tbody tr th {\n",
              "        vertical-align: top;\n",
              "    }\n",
              "\n",
              "    .dataframe thead th {\n",
              "        text-align: right;\n",
              "    }\n",
              "</style>\n",
              "<table border=\"1\" class=\"dataframe\">\n",
              "  <thead>\n",
              "    <tr style=\"text-align: right;\">\n",
              "      <th></th>\n",
              "      <th>date</th>\n",
              "      <th>nextday_date</th>\n",
              "    </tr>\n",
              "  </thead>\n",
              "  <tbody>\n",
              "    <tr>\n",
              "      <th>0</th>\n",
              "      <td>2016-12-14</td>\n",
              "      <td>2016-12-15</td>\n",
              "    </tr>\n",
              "    <tr>\n",
              "      <th>1</th>\n",
              "      <td>2016-12-14</td>\n",
              "      <td>2016-12-15</td>\n",
              "    </tr>\n",
              "    <tr>\n",
              "      <th>2</th>\n",
              "      <td>2016-12-19</td>\n",
              "      <td>2016-12-20</td>\n",
              "    </tr>\n",
              "    <tr>\n",
              "      <th>3</th>\n",
              "      <td>2016-12-19</td>\n",
              "      <td>2016-12-20</td>\n",
              "    </tr>\n",
              "    <tr>\n",
              "      <th>4</th>\n",
              "      <td>2016-12-19</td>\n",
              "      <td>2016-12-20</td>\n",
              "    </tr>\n",
              "  </tbody>\n",
              "</table>\n",
              "</div>\n",
              "      <button class=\"colab-df-convert\" onclick=\"convertToInteractive('df-85f60507-2a04-4a69-8a31-bdff0ae732c4')\"\n",
              "              title=\"Convert this dataframe to an interactive table.\"\n",
              "              style=\"display:none;\">\n",
              "        \n",
              "  <svg xmlns=\"http://www.w3.org/2000/svg\" height=\"24px\"viewBox=\"0 0 24 24\"\n",
              "       width=\"24px\">\n",
              "    <path d=\"M0 0h24v24H0V0z\" fill=\"none\"/>\n",
              "    <path d=\"M18.56 5.44l.94 2.06.94-2.06 2.06-.94-2.06-.94-.94-2.06-.94 2.06-2.06.94zm-11 1L8.5 8.5l.94-2.06 2.06-.94-2.06-.94L8.5 2.5l-.94 2.06-2.06.94zm10 10l.94 2.06.94-2.06 2.06-.94-2.06-.94-.94-2.06-.94 2.06-2.06.94z\"/><path d=\"M17.41 7.96l-1.37-1.37c-.4-.4-.92-.59-1.43-.59-.52 0-1.04.2-1.43.59L10.3 9.45l-7.72 7.72c-.78.78-.78 2.05 0 2.83L4 21.41c.39.39.9.59 1.41.59.51 0 1.02-.2 1.41-.59l7.78-7.78 2.81-2.81c.8-.78.8-2.07 0-2.86zM5.41 20L4 18.59l7.72-7.72 1.47 1.35L5.41 20z\"/>\n",
              "  </svg>\n",
              "      </button>\n",
              "      \n",
              "  <style>\n",
              "    .colab-df-container {\n",
              "      display:flex;\n",
              "      flex-wrap:wrap;\n",
              "      gap: 12px;\n",
              "    }\n",
              "\n",
              "    .colab-df-convert {\n",
              "      background-color: #E8F0FE;\n",
              "      border: none;\n",
              "      border-radius: 50%;\n",
              "      cursor: pointer;\n",
              "      display: none;\n",
              "      fill: #1967D2;\n",
              "      height: 32px;\n",
              "      padding: 0 0 0 0;\n",
              "      width: 32px;\n",
              "    }\n",
              "\n",
              "    .colab-df-convert:hover {\n",
              "      background-color: #E2EBFA;\n",
              "      box-shadow: 0px 1px 2px rgba(60, 64, 67, 0.3), 0px 1px 3px 1px rgba(60, 64, 67, 0.15);\n",
              "      fill: #174EA6;\n",
              "    }\n",
              "\n",
              "    [theme=dark] .colab-df-convert {\n",
              "      background-color: #3B4455;\n",
              "      fill: #D2E3FC;\n",
              "    }\n",
              "\n",
              "    [theme=dark] .colab-df-convert:hover {\n",
              "      background-color: #434B5C;\n",
              "      box-shadow: 0px 1px 3px 1px rgba(0, 0, 0, 0.15);\n",
              "      filter: drop-shadow(0px 1px 2px rgba(0, 0, 0, 0.3));\n",
              "      fill: #FFFFFF;\n",
              "    }\n",
              "  </style>\n",
              "\n",
              "      <script>\n",
              "        const buttonEl =\n",
              "          document.querySelector('#df-85f60507-2a04-4a69-8a31-bdff0ae732c4 button.colab-df-convert');\n",
              "        buttonEl.style.display =\n",
              "          google.colab.kernel.accessAllowed ? 'block' : 'none';\n",
              "\n",
              "        async function convertToInteractive(key) {\n",
              "          const element = document.querySelector('#df-85f60507-2a04-4a69-8a31-bdff0ae732c4');\n",
              "          const dataTable =\n",
              "            await google.colab.kernel.invokeFunction('convertToInteractive',\n",
              "                                                     [key], {});\n",
              "          if (!dataTable) return;\n",
              "\n",
              "          const docLinkHtml = 'Like what you see? Visit the ' +\n",
              "            '<a target=\"_blank\" href=https://colab.research.google.com/notebooks/data_table.ipynb>data table notebook</a>'\n",
              "            + ' to learn more about interactive tables.';\n",
              "          element.innerHTML = '';\n",
              "          dataTable['output_type'] = 'display_data';\n",
              "          await google.colab.output.renderOutput(dataTable, element);\n",
              "          const docLink = document.createElement('div');\n",
              "          docLink.innerHTML = docLinkHtml;\n",
              "          element.appendChild(docLink);\n",
              "        }\n",
              "      </script>\n",
              "    </div>\n",
              "  </div>\n",
              "  "
            ]
          },
          "metadata": {},
          "execution_count": 55
        }
      ]
    },
    {
      "cell_type": "code",
      "source": [
        "train_holiday = train.loc[train[\"holyday\"] == 1]"
      ],
      "metadata": {
        "id": "TjN6_UcRiN_3"
      },
      "execution_count": null,
      "outputs": []
    },
    {
      "cell_type": "code",
      "source": [
        "#train_holiday의 date값을 중복되지 않게 list로 만듭니다\n",
        "\n",
        "my_list = train_holiday[\"date\"].values\n",
        "uniqueVals = np.unique(my_list)\n",
        "holiday_date_list = uniqueVals.tolist()"
      ],
      "metadata": {
        "id": "aBiqqY1_iYCx"
      },
      "execution_count": null,
      "outputs": []
    },
    {
      "cell_type": "code",
      "source": [
        "holiday_date_list"
      ],
      "metadata": {
        "id": "mVAdPPfKil3u",
        "colab": {
          "base_uri": "https://localhost:8080/"
        },
        "outputId": "78bc5491-c2c7-43b3-c49e-5fd2690f8ffe"
      },
      "execution_count": null,
      "outputs": [
        {
          "output_type": "execute_result",
          "data": {
            "text/plain": [
              "['2016-08-15',\n",
              " '2016-09-14',\n",
              " '2016-09-15',\n",
              " '2016-09-16',\n",
              " '2016-10-03',\n",
              " '2016-10-09',\n",
              " '2016-12-25',\n",
              " '2017-01-01',\n",
              " '2017-01-27',\n",
              " '2017-01-28',\n",
              " '2017-01-29',\n",
              " '2017-01-30',\n",
              " '2017-03-01',\n",
              " '2017-05-01',\n",
              " '2017-05-03',\n",
              " '2017-05-05',\n",
              " '2017-05-09',\n",
              " '2017-06-06',\n",
              " '2017-08-15',\n",
              " '2017-10-02',\n",
              " '2017-10-03',\n",
              " '2017-10-04',\n",
              " '2017-10-05',\n",
              " '2017-10-06',\n",
              " '2017-10-09',\n",
              " '2017-12-25',\n",
              " '2018-01-01',\n",
              " '2018-02-15',\n",
              " '2018-02-16',\n",
              " '2018-02-17',\n",
              " '2018-03-01',\n",
              " '2018-05-01',\n",
              " '2018-05-05',\n",
              " '2018-05-07',\n",
              " '2018-05-22',\n",
              " '2018-06-06',\n",
              " '2018-06-13']"
            ]
          },
          "metadata": {},
          "execution_count": 58
        }
      ]
    },
    {
      "cell_type": "code",
      "source": [
        "# train 데이터의 nextday_date값이 holiday_date_list에 속해있으면, nextday_holiday컬럼의 값을 1로 채움\n",
        "idx = [idx for idx, value in enumerate(train[\"nextday_date\"]) if value in holiday_date_list]"
      ],
      "metadata": {
        "id": "dNNknkPvixf3"
      },
      "execution_count": null,
      "outputs": []
    },
    {
      "cell_type": "code",
      "source": [
        "plt.figure(figsize=(10, 7))\n",
        "sns.pointplot(data=train, x=\"hour\", y=\"total\", hue=\"nextday_holiday\")\n",
        "# 전체적으로 휴일의 수요가 많으며, 공휴일의 금, 토요일의 새벽 수요가 많다"
      ],
      "metadata": {
        "id": "Rowpn7UHixOJ",
        "colab": {
          "base_uri": "https://localhost:8080/",
          "height": 460
        },
        "outputId": "3be15e68-15ba-401d-df79-7f27b99acd15"
      },
      "execution_count": null,
      "outputs": [
        {
          "output_type": "execute_result",
          "data": {
            "text/plain": [
              "<matplotlib.axes._subplots.AxesSubplot at 0x7f205d4e61d0>"
            ]
          },
          "metadata": {},
          "execution_count": 60
        },
        {
          "output_type": "display_data",
          "data": {
            "text/plain": [
              "<Figure size 720x504 with 1 Axes>"
            ],
            "image/png": "[encoded data removed]"
          },
          "metadata": {
            "needs_background": "light"
          }
        }
      ]
    },
    {
      "cell_type": "code",
      "source": [
        "figure, (ax1, ax2) = plt.subplots(nrows=1, ncols=2)\n",
        "figure.set_size_inches(18, 4)\n",
        "sns.pointplot(data=train, x=\"hour\", y=\"total\", hue=\"holyday\", ax=ax1)\n",
        "sns.pointplot(data=train, x=\"hour\", y=\"total\", hue=\"nextday_holiday\", ax=ax2)"
      ],
      "metadata": {
        "id": "m2mwvFkcixHz",
        "colab": {
          "base_uri": "https://localhost:8080/",
          "height": 297
        },
        "outputId": "6225bc07-e9a6-4805-b8d6-34f69b8bbd0f"
      },
      "execution_count": null,
      "outputs": [
        {
          "output_type": "execute_result",
          "data": {
            "text/plain": [
              "<matplotlib.axes._subplots.AxesSubplot at 0x7f205fa75110>"
            ]
          },
          "metadata": {},
          "execution_count": 61
        },
        {
          "output_type": "display_data",
          "data": {
            "text/plain": [
              "<Figure size 1296x288 with 2 Axes>"
            ],
            "image/png": "[encoded data removed]"
          },
          "metadata": {
            "needs_background": "light"
          }
        }
      ]
    },
    {
      "cell_type": "code",
      "source": [
        "total_over0 = train.loc[train[\"total\"] >= 0]"
      ],
      "metadata": {
        "id": "nDIsabixjBsz"
      },
      "execution_count": null,
      "outputs": []
    },
    {
      "cell_type": "code",
      "source": [
        "cmap = sns.cubehelix_palette(rot=-.2, as_cmap=True)\n",
        "plt.figure(figsize=(10, 7))\n",
        "sns.scatterplot(data=total_over0, x=\"installments\", y=\"total\", hue=\"year\", palette=cmap)\n",
        "# 할부 개월 수는 금액이 클수록 커진는 양의 상관관계를 가진다."
      ],
      "metadata": {
        "id": "u67-rYw8jKy3",
        "colab": {
          "base_uri": "https://localhost:8080/",
          "height": 460
        },
        "outputId": "f3c2136a-3669-4a4f-f38c-4ff30e25ce61"
      },
      "execution_count": null,
      "outputs": [
        {
          "output_type": "execute_result",
          "data": {
            "text/plain": [
              "<matplotlib.axes._subplots.AxesSubplot at 0x7f2061b261d0>"
            ]
          },
          "metadata": {},
          "execution_count": 63
        },
        {
          "output_type": "display_data",
          "data": {
            "text/plain": [
              "<Figure size 720x504 with 1 Axes>"
            ],
            "image/png": "[encoded data removed]"
          },
          "metadata": {
            "needs_background": "light"
          }
        }
      ]
    },
    {
      "cell_type": "markdown",
      "source": [
        "참조 : https://dacon.io/competitions/official/42473/codeshare/427?page=1&dtype=recent"
      ],
      "metadata": {
        "id": "9vyJu_EvzHji"
      }
    },
    {
      "cell_type": "markdown",
      "source": [
        "## 분석 1등 코드"
      ],
      "metadata": {
        "id": "Hwdc1ZUFzQX3"
      }
    },
    {
      "cell_type": "code",
      "source": [
        "### 패키지 설치 \n",
        "import pandas as pd #Analysis \n",
        "import matplotlib.pyplot as plt #Visulization\n",
        "import seaborn as sns #Visulization\n",
        "import numpy as np #Analysis \n",
        "from scipy.stats import norm #Analysis \n",
        "from sklearn.preprocessing import StandardScaler #Analysis \n",
        "from scipy import stats #Analysis \n",
        "import warnings \n",
        "warnings.filterwarnings('ignore')\n",
        "%matplotlib inline\n",
        "import gc\n",
        "\n",
        "import os\n",
        "import string\n",
        "color = sns.color_palette()\n",
        "\n",
        "%matplotlib inline\n",
        "\n",
        "from plotly import tools\n",
        "import plotly.offline as py\n",
        "py.init_notebook_mode(connected=True)\n",
        "import plotly.graph_objs as go\n",
        "\n",
        "from sklearn import model_selection, preprocessing, metrics, ensemble, naive_bayes, linear_model\n",
        "from sklearn.feature_extraction.text import TfidfVectorizer, CountVectorizer\n",
        "from sklearn.decomposition import TruncatedSVD\n",
        "\n",
        "pd.options.mode.chained_assignment = None\n",
        "pd.options.display.max_columns = 999\n",
        "\n",
        "import plotly.graph_objs as go\n",
        "\n",
        "import time\n",
        "import random"
      ],
      "metadata": {
        "id": "Xm_goECHzmef",
        "colab": {
          "base_uri": "https://localhost:8080/",
          "height": 17
        },
        "outputId": "972368f1-9716-4797-8b79-eb53161e90b6"
      },
      "execution_count": null,
      "outputs": [
        {
          "output_type": "display_data",
          "data": {
            "text/html": [
              "        <script type=\"text/javascript\">\n",
              "        window.PlotlyConfig = {MathJaxConfig: 'local'};\n",
              "        if (window.MathJax) {MathJax.Hub.Config({SVG: {font: \"STIX-Web\"}});}\n",
              "        if (typeof require !== 'undefined') {\n",
              "        require.undef(\"plotly\");\n",
              "        requirejs.config({\n",
              "            paths: {\n",
              "                'plotly': ['https://cdn.plot.ly/plotly-2.8.3.min']\n",
              "            }\n",
              "        });\n",
              "        require(['plotly'], function(Plotly) {\n",
              "            window._Plotly = Plotly;\n",
              "        });\n",
              "        }\n",
              "        </script>\n",
              "        "
            ]
          },
          "metadata": {}
        }
      ]
    },
    {
      "cell_type": "code",
      "source": [
        "train = pd.read_csv(\"train.csv\",parse_dates=['date'])\n",
        "train.shape\n",
        "# 데이터의 양을 확인"
      ],
      "metadata": {
        "id": "Oa5IfgHxyVCp",
        "colab": {
          "base_uri": "https://localhost:8080/"
        },
        "outputId": "4d9b095b-623e-4629-ad12-62609a9fbe8d"
      },
      "execution_count": null,
      "outputs": [
        {
          "output_type": "execute_result",
          "data": {
            "text/plain": [
              "(3362796, 8)"
            ]
          },
          "metadata": {},
          "execution_count": 65
        }
      ]
    },
    {
      "cell_type": "code",
      "source": [
        "train.head()\n",
        "# 데이터 판단\n",
        "# 1. 시간\n",
        "# 2. 식별화 코드\n",
        "# 3. 매출"
      ],
      "metadata": {
        "id": "B7JbPa6FzXlJ",
        "colab": {
          "base_uri": "https://localhost:8080/",
          "height": 206
        },
        "outputId": "8157506d-1f96-4b5e-86c6-57074a716a65"
      },
      "execution_count": null,
      "outputs": [
        {
          "output_type": "execute_result",
          "data": {
            "text/plain": [
              "   store_id       date      time     card_id  amount  installments  \\\n",
              "0         0 2016-12-14  18:05:31  d297bba73f       5           NaN   \n",
              "1         0 2016-12-14  18:05:54  d297bba73f      -5           NaN   \n",
              "2         0 2016-12-19  12:42:31  0880849c05     144           NaN   \n",
              "3         0 2016-12-19  12:48:08  8b4f9e0e95      66           NaN   \n",
              "4         0 2016-12-19  13:31:08  7ad237eed0      24           NaN   \n",
              "\n",
              "   days_of_week  holyday  \n",
              "0             2        0  \n",
              "1             2        0  \n",
              "2             0        0  \n",
              "3             0        0  \n",
              "4             0        0  "
            ],
            "text/html": [
              "\n",
              "  <div id=\"df-7ba4bd5d-7818-489a-be41-fffa0555920b\">\n",
              "    <div class=\"colab-df-container\">\n",
              "      <div>\n",
              "<style scoped>\n",
              "    .dataframe tbody tr th:only-of-type {\n",
              "        vertical-align: middle;\n",
              "    }\n",
              "\n",
              "    .dataframe tbody tr th {\n",
              "        vertical-align: top;\n",
              "    }\n",
              "\n",
              "    .dataframe thead th {\n",
              "        text-align: right;\n",
              "    }\n",
              "</style>\n",
              "<table border=\"1\" class=\"dataframe\">\n",
              "  <thead>\n",
              "    <tr style=\"text-align: right;\">\n",
              "      <th></th>\n",
              "      <th>store_id</th>\n",
              "      <th>date</th>\n",
              "      <th>time</th>\n",
              "      <th>card_id</th>\n",
              "      <th>amount</th>\n",
              "      <th>installments</th>\n",
              "      <th>days_of_week</th>\n",
              "      <th>holyday</th>\n",
              "    </tr>\n",
              "  </thead>\n",
              "  <tbody>\n",
              "    <tr>\n",
              "      <th>0</th>\n",
              "      <td>0</td>\n",
              "      <td>2016-12-14</td>\n",
              "      <td>18:05:31</td>\n",
              "      <td>d297bba73f</td>\n",
              "      <td>5</td>\n",
              "      <td>NaN</td>\n",
              "      <td>2</td>\n",
              "      <td>0</td>\n",
              "    </tr>\n",
              "    <tr>\n",
              "      <th>1</th>\n",
              "      <td>0</td>\n",
              "      <td>2016-12-14</td>\n",
              "      <td>18:05:54</td>\n",
              "      <td>d297bba73f</td>\n",
              "      <td>-5</td>\n",
              "      <td>NaN</td>\n",
              "      <td>2</td>\n",
              "      <td>0</td>\n",
              "    </tr>\n",
              "    <tr>\n",
              "      <th>2</th>\n",
              "      <td>0</td>\n",
              "      <td>2016-12-19</td>\n",
              "      <td>12:42:31</td>\n",
              "      <td>0880849c05</td>\n",
              "      <td>144</td>\n",
              "      <td>NaN</td>\n",
              "      <td>0</td>\n",
              "      <td>0</td>\n",
              "    </tr>\n",
              "    <tr>\n",
              "      <th>3</th>\n",
              "      <td>0</td>\n",
              "      <td>2016-12-19</td>\n",
              "      <td>12:48:08</td>\n",
              "      <td>8b4f9e0e95</td>\n",
              "      <td>66</td>\n",
              "      <td>NaN</td>\n",
              "      <td>0</td>\n",
              "      <td>0</td>\n",
              "    </tr>\n",
              "    <tr>\n",
              "      <th>4</th>\n",
              "      <td>0</td>\n",
              "      <td>2016-12-19</td>\n",
              "      <td>13:31:08</td>\n",
              "      <td>7ad237eed0</td>\n",
              "      <td>24</td>\n",
              "      <td>NaN</td>\n",
              "      <td>0</td>\n",
              "      <td>0</td>\n",
              "    </tr>\n",
              "  </tbody>\n",
              "</table>\n",
              "</div>\n",
              "      <button class=\"colab-df-convert\" onclick=\"convertToInteractive('df-7ba4bd5d-7818-489a-be41-fffa0555920b')\"\n",
              "              title=\"Convert this dataframe to an interactive table.\"\n",
              "              style=\"display:none;\">\n",
              "        \n",
              "  <svg xmlns=\"http://www.w3.org/2000/svg\" height=\"24px\"viewBox=\"0 0 24 24\"\n",
              "       width=\"24px\">\n",
              "    <path d=\"M0 0h24v24H0V0z\" fill=\"none\"/>\n",
              "    <path d=\"M18.56 5.44l.94 2.06.94-2.06 2.06-.94-2.06-.94-.94-2.06-.94 2.06-2.06.94zm-11 1L8.5 8.5l.94-2.06 2.06-.94-2.06-.94L8.5 2.5l-.94 2.06-2.06.94zm10 10l.94 2.06.94-2.06 2.06-.94-2.06-.94-.94-2.06-.94 2.06-2.06.94z\"/><path d=\"M17.41 7.96l-1.37-1.37c-.4-.4-.92-.59-1.43-.59-.52 0-1.04.2-1.43.59L10.3 9.45l-7.72 7.72c-.78.78-.78 2.05 0 2.83L4 21.41c.39.39.9.59 1.41.59.51 0 1.02-.2 1.41-.59l7.78-7.78 2.81-2.81c.8-.78.8-2.07 0-2.86zM5.41 20L4 18.59l7.72-7.72 1.47 1.35L5.41 20z\"/>\n",
              "  </svg>\n",
              "      </button>\n",
              "      \n",
              "  <style>\n",
              "    .colab-df-container {\n",
              "      display:flex;\n",
              "      flex-wrap:wrap;\n",
              "      gap: 12px;\n",
              "    }\n",
              "\n",
              "    .colab-df-convert {\n",
              "      background-color: #E8F0FE;\n",
              "      border: none;\n",
              "      border-radius: 50%;\n",
              "      cursor: pointer;\n",
              "      display: none;\n",
              "      fill: #1967D2;\n",
              "      height: 32px;\n",
              "      padding: 0 0 0 0;\n",
              "      width: 32px;\n",
              "    }\n",
              "\n",
              "    .colab-df-convert:hover {\n",
              "      background-color: #E2EBFA;\n",
              "      box-shadow: 0px 1px 2px rgba(60, 64, 67, 0.3), 0px 1px 3px 1px rgba(60, 64, 67, 0.15);\n",
              "      fill: #174EA6;\n",
              "    }\n",
              "\n",
              "    [theme=dark] .colab-df-convert {\n",
              "      background-color: #3B4455;\n",
              "      fill: #D2E3FC;\n",
              "    }\n",
              "\n",
              "    [theme=dark] .colab-df-convert:hover {\n",
              "      background-color: #434B5C;\n",
              "      box-shadow: 0px 1px 3px 1px rgba(0, 0, 0, 0.15);\n",
              "      filter: drop-shadow(0px 1px 2px rgba(0, 0, 0, 0.3));\n",
              "      fill: #FFFFFF;\n",
              "    }\n",
              "  </style>\n",
              "\n",
              "      <script>\n",
              "        const buttonEl =\n",
              "          document.querySelector('#df-7ba4bd5d-7818-489a-be41-fffa0555920b button.colab-df-convert');\n",
              "        buttonEl.style.display =\n",
              "          google.colab.kernel.accessAllowed ? 'block' : 'none';\n",
              "\n",
              "        async function convertToInteractive(key) {\n",
              "          const element = document.querySelector('#df-7ba4bd5d-7818-489a-be41-fffa0555920b');\n",
              "          const dataTable =\n",
              "            await google.colab.kernel.invokeFunction('convertToInteractive',\n",
              "                                                     [key], {});\n",
              "          if (!dataTable) return;\n",
              "\n",
              "          const docLinkHtml = 'Like what you see? Visit the ' +\n",
              "            '<a target=\"_blank\" href=https://colab.research.google.com/notebooks/data_table.ipynb>data table notebook</a>'\n",
              "            + ' to learn more about interactive tables.';\n",
              "          element.innerHTML = '';\n",
              "          dataTable['output_type'] = 'display_data';\n",
              "          await google.colab.output.renderOutput(dataTable, element);\n",
              "          const docLink = document.createElement('div');\n",
              "          docLink.innerHTML = docLinkHtml;\n",
              "          element.appendChild(docLink);\n",
              "        }\n",
              "      </script>\n",
              "    </div>\n",
              "  </div>\n",
              "  "
            ]
          },
          "metadata": {},
          "execution_count": 66
        }
      ]
    },
    {
      "cell_type": "code",
      "source": [
        "# 요일 변수 생성 방법\n",
        "train['date'] = pd.to_datetime(train['date'])\n",
        "train['year'] = train['date'].dt.year\n",
        "train['month'] = train['date'].dt.month\n",
        "train['day'] = train['date'].dt.day\n",
        "\n",
        "train['hour'] = train['time'].apply(lambda x: x[0:2])\n",
        "train['hour'] = train['hour'].astype('int')\n",
        "\n",
        "train['weekend'] = train['days_of_week'].apply(lambda x: 1 if x > 4 else 0)"
      ],
      "metadata": {
        "id": "PY7OMG3o1S2k"
      },
      "execution_count": null,
      "outputs": []
    },
    {
      "cell_type": "markdown",
      "source": [
        "* Amount의 이상치의 수\n",
        "\n",
        "* amount가 0보다 이하로 취소 된 경우는 33832건\n",
        "\n",
        "* 거래의 표기실수는 1024건\n",
        "\n",
        "* 실제로 거래가 취소 된 케이스는 두가지\n",
        "\n",
        "1. 거래가 취소되고 재거래가 발생하지 않음.\n",
        "\n",
        "2. 거래가 취소되고 재거래가 발생.\n",
        "\n",
        "3. 거래가 취소되고 재거래가 발생하지 않음\n"
      ],
      "metadata": {
        "id": "vogmHzr9104c"
      }
    },
    {
      "cell_type": "code",
      "source": [
        "print(train[train['amount'] < 0].shape[0],train[train['amount']==0].shape[0])"
      ],
      "metadata": {
        "id": "GVuAT_6q1q2i",
        "colab": {
          "base_uri": "https://localhost:8080/"
        },
        "outputId": "df6f0132-3136-4854-d4e4-8ae19996297b"
      },
      "execution_count": null,
      "outputs": [
        {
          "output_type": "stream",
          "name": "stdout",
          "text": [
            "33832 1024\n"
          ]
        }
      ]
    }
  ]
}